{
 "cells": [
  {
   "cell_type": "markdown",
   "id": "e6ad6634-1979-4b55-b489-a9148032b90b",
   "metadata": {},
   "source": [
    "# Modeling spring networks\n",
    "\n",
    "Examples in \"Structural modeling\""
   ]
  },
  {
   "cell_type": "markdown",
   "id": "cd650be2-9424-4a03-a867-62bd5f679774",
   "metadata": {},
   "source": [
    "## One-dimensional models"
   ]
  },
  {
   "cell_type": "markdown",
   "id": "156e0f44-932e-4d45-b065-2d1f9e98960a",
   "metadata": {},
   "source": [
    "Let's consider a linear network of 3 springs and 2 masses:\n",
    "\n",
    "![](springs--image01.png)\n",
    "\n",
    "Here are the variables:\n",
    "\n",
    "- $f_j$ = applied load or force to mass (in `N` = `Newtons`), for $j=1,2$\n",
    "- $k_i$ = spring constant (in `N/m` = `Newtons per meter`), for $i=1,2,3$ \n",
    "- $e_i$ = elongation of spring $i$ from equilibrium (in `m` = `meters`)\n",
    "- $x_j$ = displasement of mass $j$ from equilibrium (in `m` = `meters`)\n",
    "- $y_i$ = restoring force on spring $i$ (in `N` = `Newtons`)\n",
    "\n",
    "The *\"inputs\"* are the applied forces $f_j$ which cause the masses to move, resulting in elongation of springs.\n",
    "\n",
    "We'll take \"movement to the right\" to be *positive*, and a stretch as *positive* elongation.\n",
    "\n",
    "Thus we have the equations:\n",
    "$$e_1 = x_1, \\quad e_2 = x_2 - x_1, \\quad e_3 = -x_2.$$\n",
    "\n",
    "(This third equation reflects the fact that spring 3 compresses when $m_2$ moves to the right.)\n",
    "\n",
    "Let's put this in matrix form:\n",
    "\n",
    "$$\\mathbf{e} = \\begin{bmatrix} e_1 \\\\ e_2 \\\\ e_3 \\end{bmatrix} =\n",
    "\\begin{bmatrix} 1 & 0 \\\\ -1 & 1 \\\\ 0 & -1 \\end{bmatrix} \\begin{bmatrix} x_1 \\\\ x_2 \\end{bmatrix}\n",
    "= B \\mathbf{x}.$$\n",
    "\n",
    "Now, let's recall that according to [Hooke's Law](https://en.wikipedia.org/wiki/Hooke's_law),\n",
    "the elongation of the spring causes a restoring force on the mass, determined by the *spring constant* $k_i>0$. Thus we get equations\n",
    "\n",
    "$$y_j = k_j e_j \\quad \\text{for $j = 1,2,3$}.$$\n",
    "\n",
    "In matrix form, these equations read:\n",
    "\n",
    "$$\\mathbf{y} = \\begin{bmatrix} y_1 \\\\ y_2 \\\\ y_3 \\end{bmatrix}\n",
    "= \\begin{bmatrix}  k_1 & 0 & 0 \\\\ 0 & k_2 & 0 \\\\ 0 & 0 & k_3 \\end{bmatrix}\n",
    "\\begin{bmatrix} e_1 \\\\ e_2 \\\\ e_3 \\end{bmatrix} = K\\mathbf{e}.$$\n",
    "\n",
    "*Combining* these euqations gives\n",
    "$$\\mathbf{y} = K \\mathbf{e} = K B \\mathbf{x}.$$"
   ]
  },
  {
   "cell_type": "code",
   "execution_count": 19,
   "id": "4e7818d8-5f23-49f9-ab20-39d6d53a4f2b",
   "metadata": {},
   "outputs": [
    {
     "data": {
      "text/plain": [
       "(array([[k1, 0, 0],\n",
       "        [0, k2, 0],\n",
       "        [0, 0, k3]], dtype=object),\n",
       " array([[ 1,  0],\n",
       "        [-1,  1],\n",
       "        [ 0, -1]]))"
      ]
     },
     "execution_count": 19,
     "metadata": {},
     "output_type": "execute_result"
    }
   ],
   "source": [
    "import numpy as np\n",
    "import sympy as sp\n",
    "\n",
    "def sbv(i,n):\n",
    "    return np.array([1 if j == i else 0 for j in range(n)])\n",
    "\n",
    "def makeK(kar):\n",
    "    n = len(kar)\n",
    "    return np.array([kar[i]*sbv(i,n) for i in range(n)])\n",
    "\n",
    "def makeB(m,n):\n",
    "    return np.array([(-1)*sbv(i-1,m) + sbv(i,m) for i in range(n)])\n",
    "\n",
    "k1, k2, k3 = sp.symbols('k1 k2 k3')\n",
    "\n",
    "K = makeK([k1,k2,k3])\n",
    "B = makeB(2,3)\n",
    "(K,B)"
   ]
  },
  {
   "cell_type": "markdown",
   "id": "eaf9c013-8ca0-4063-bd7f-5c2a1803605c",
   "metadata": {},
   "source": [
    "\n",
    "Next, we assume that the system is at rest after the loads are applied (i.e. the forces $f_i$).\n",
    "\n",
    "![](springs--image02.png)\n",
    "\n",
    "Looking at the diagram, we see that the following equations must hold:\n",
    "\n",
    "(The first diagram gives:)\n",
    "\\begin{align*}\n",
    "y_1 &= y_2 + f_1 \\implies\\\\\n",
    "y_1 - y_2 & = f_1 \n",
    "\\end{align*}\n",
    "\n",
    "(The second diagram gives:)\n",
    "\\begin{align*}\n",
    "y_2 &= y_3 + f_2 \\implies\\\\\n",
    "y_2 - y_3 &= f_2\n",
    "\\end{align*}\n",
    "\n",
    "In matrix form this reads\n",
    "$$\\begin{bmatrix}\n",
    "1 & -1 & 0 \\\\\n",
    "0 & 1 & -1\n",
    "\\end{bmatrix}\n",
    "\\begin{bmatrix} y_1 \\\\ y_2 \\\\ y_3 \\end{bmatrix} =\n",
    "\\begin{bmatrix} f_1 \\\\ f_2 \\end{bmatrix},$$\n",
    "i.e.\n",
    "$$B^T \\mathbf{y} = \\mathbf{f}$$\n",
    "\n",
    "Combined with our earlier equation\n",
    "$$\\mathbf{y} = K \\mathbf{e} = K B \\mathbf{x}$$\n",
    "we now see\n",
    "$$B^T K B \\mathbf{x} = \\mathbf{f}.$$"
   ]
  },
  {
   "cell_type": "code",
   "execution_count": 26,
   "id": "cbf2342a-8004-4230-8b32-a424b7e7d2ae",
   "metadata": {},
   "outputs": [
    {
     "data": {
      "text/plain": [
       "array([[k1 + k2, -k2],\n",
       "       [-k2, k2 + k3]], dtype=object)"
      ]
     },
     "execution_count": 26,
     "metadata": {},
     "output_type": "execute_result"
    }
   ],
   "source": [
    "A=B.transpose() @ K @ B \n",
    "A"
   ]
  },
  {
   "cell_type": "markdown",
   "id": "7ae9ba92-2a0a-4511-a6f4-1fa986b65f6c",
   "metadata": {},
   "source": [
    "Thus we have\n",
    "$$A = B^T K B = \\begin{bmatrix} k_1 + k_2 & -k_2 \\\\\n",
    "-k_2 & k_2 + k_3 \\end{bmatrix}.$$"
   ]
  },
  {
   "cell_type": "code",
   "execution_count": 32,
   "id": "c3a5a1d4-5274-4f18-9407-4de8773638d1",
   "metadata": {},
   "outputs": [
    {
     "data": {
      "text/plain": [
       "array([ 1., -1.])"
      ]
     },
     "execution_count": 32,
     "metadata": {},
     "output_type": "execute_result"
    }
   ],
   "source": [
    "def findDisplacements(kar,far):\n",
    "    # kar = array of spring constants\n",
    "    # far = array of initial forces.\n",
    "    m = len(far)\n",
    "    n = len(kar)\n",
    "    B = makeB(m,n)\n",
    "    K = makeK(kar)\n",
    "    A = B.transpose() @ K @ B\n",
    "    f = np.array(far)\n",
    "    return np.linalg.solve(A,f)\n",
    "\n",
    "# Let's find the displacements for spring constants `k = [1,1,1]`\n",
    "# and forces `f = [3,-3]`\n",
    "\n",
    "findDisplacements([1,1,1],[3,-3])"
   ]
  },
  {
   "cell_type": "code",
   "execution_count": 37,
   "id": "30dcc4c2-baf9-41ac-809d-913799f7b626",
   "metadata": {},
   "outputs": [
    {
     "data": {
      "text/plain": [
       "array([ 1.33333333, -0.33333333])"
      ]
     },
     "execution_count": 37,
     "metadata": {},
     "output_type": "execute_result"
    }
   ],
   "source": [
    "findDisplacements([1,1,1],[3,-2])"
   ]
  },
  {
   "cell_type": "markdown",
   "id": "6276e068-9a4c-42d3-886d-075dbe4528b0",
   "metadata": {},
   "source": [
    "## Two dimensional models"
   ]
  },
  {
   "cell_type": "markdown",
   "id": "ffcf9485-674a-426f-96cc-fdc9c1a59cc2",
   "metadata": {},
   "source": [
    "Now let's allow the mass to move in two dimensions:\n",
    "![](springs--image03.png)\n",
    "\n",
    "We see in this case that the elongation $e$ satisfies\n",
    "\n",
    "$$e = \\sqrt{x_1^2 + (L + x_2)^2} - L$$\n",
    "\n",
    "Since this does not express a linear relationship between $e$ and the displacements\n",
    "$x_1,x_2$, we can't express this relationship using a matrix.\n",
    "\n",
    "But we can *linearize*. Recall that the linearization (first-order Taylor polynomial) about\n",
    "$t=0$ of the function $y = \\sqrt{1+t}$ is given by\n",
    "$$(\\clubsuit) \\quad \\sqrt{1+t} \\approx 1 + \\dfrac{t}{2} + O(t^2).$$\n",
    "\n",
    "Let's use this linearization to rewrite the expression for $e$ given above.\n",
    "\n",
    "We first rewrite\n",
    "\\begin{align*}\n",
    "x_1^2 + (L+ x_2)^2 &= x_1^2 + L^2 + 2Lx_2 + x_2^2 \\\\\n",
    "&= L^2\\left( \\dfrac{x_1^2}{L^2} + 1 + \\dfrac{2x_2}{L} + \\dfrac{x_2^2}{L^2} \\right) \\\\\n",
    "&= L^2\\left( 1 + \\dfrac{2x_2}{L} + \\dfrac{x_1^2}{L^2} + \\dfrac{x_2^2}{L^2} \\right) \n",
    "\\end{align*}\n",
    "so that\n",
    "\\begin{align*}\n",
    "e &= \\sqrt{x_1^2 + (L + x_2)^2} - L \\\\\n",
    "&= \\sqrt{L^2\\left( 1 + \\dfrac{2x_2}{L} + \\dfrac{x_1^2}{L^2} + \\dfrac{x_2^2}{L^2} \\right)} -L \\\\\n",
    "&= L\\sqrt{1 + \\dfrac{2x_2}{L} + \\dfrac{x_1^2}{L^2} + \\dfrac{x_2^2}{L^2}} -L\n",
    "\\end{align*}\n",
    "\n",
    "Now taking $t = \\dfrac{2x_2}{L} + \\dfrac{x_1^2}{L^2} + \\dfrac{x_2^2}{L^2}$ the approximation\n",
    "$(\\clubsuit)$ gives\n",
    "\\begin{align*}\n",
    "e &\\approx L\\left(1 + \\dfrac{1}{2}t\\right) - L \\\\\n",
    "&= L \\left(1 + \\dfrac{1}{2}\\dfrac{2x_2}{L} + \\dfrac{x_1^2}{L^2} + \\dfrac{x_2^2}{L^2}\\right) -L \\\\\n",
    "&= x_2 + \\dfrac{x_1^2 + x_2^2}{2L}\n",
    "\\end{align*}\n",
    "\n",
    "Now, this is of course still not a linear relationship between $e$ and $x_1,x_2$. Note that the approximation $(\\clubsuit)$ depends on the assumption that $t = \\dfrac{2x_2}{L} + \\dfrac{x_1^2}{L^2} + \\dfrac{x_2^2}{L^2} \\approx 0$.\n",
    "\n",
    "If we suppose that the displacements $x_1,x_2$ are small compared to the resting length $L$ of the spring, then $x_1^2 + x_2^2$ is even smaller compared to $L$, so making one more approximation, we eliminate the quadratic term and so we get\n",
    "$$e \\approx x_2.$$\n",
    "\n",
    "**Remark**\n",
    ":   The approximation $e \\approx x_2$ is equivalent to a [small-angle approximation](https://en.wikipedia.org/wiki/Small-angle_approximation). \n",
    "    It essentially says that the horizontal displacements are negligible in the elongation, but vertical displacements are important.\n",
    "\n",
    "**Remark**\n",
    ":   This assumption is of course **\"wrong\"**, but can still be useful. Especially, it is now *linear*"
   ]
  },
  {
   "cell_type": "markdown",
   "id": "965a5bbd-e22c-4348-b41b-621d7b48451f",
   "metadata": {},
   "source": [
    "## Spring networks"
   ]
  },
  {
   "cell_type": "markdown",
   "id": "5a84427e-1c50-471a-b4c3-46d79cb26ada",
   "metadata": {},
   "source": [
    "Let's consider a  network of springs in the two-dimensional setting.\n",
    "\n",
    "![](springs--image04.png)\n",
    "\n",
    "The *linearization* discussed in the previous section says that the elongation\n",
    "is determined by the displacement in the \"1 dimensional direction of the spring\".\n",
    "\n",
    "We get the matrix equation\n",
    "\n",
    "$$\\mathbf{e} = \\begin{bmatrix} 0 & 1 & 0 & 0 \\\\ -1 & 0 & 1 & 0 \\\\\n",
    "0 & 0 & 0 & 1 \\end{bmatrix}\n",
    "\\begin{bmatrix} x_1 \\\\ x_2 \\\\ x_3 \\\\ x_4 \\end{bmatrix} = B \\mathbf{x}.$$\n",
    "\n",
    "As before, Hooke's Law gives\n",
    "\n",
    "$$\\mathbf{y} = \\begin{bmatrix} y_1 \\\\ y_2 \\\\ y_3 \\end{bmatrix}\n",
    "= \\begin{bmatrix}  k_1 & 0 & 0 \\\\ 0 & k_2 & 0 \\\\ 0 & 0 & k_3 \\end{bmatrix}\n",
    "\\begin{bmatrix} e_1 \\\\ e_2 \\\\ e_3 \\end{bmatrix} = K\\mathbf{e}.$$\n"
   ]
  },
  {
   "cell_type": "markdown",
   "id": "85cc643e-d57f-4b0d-b3bc-cdd9e7c48179",
   "metadata": {},
   "source": [
    "We balance the forces:\n",
    "\n",
    "![](springs--image05.png)\n",
    "\n",
    "This gives\n",
    "\n",
    "$$\\begin{bmatrix} 0 & -1 & 0 \\\\\n",
    " 1 & 0 & 0 \\\\\n",
    " 0 & 1 & 0 \\\\\n",
    " 0 & 0 & 1 \\end{bmatrix} \\mathbf{y}  = \\mathbf{f}$$\n",
    "i.e.\n",
    "$$B^T \\mathbf{y} = \\mathbf{f}.$$"
   ]
  },
  {
   "cell_type": "code",
   "execution_count": null,
   "id": "5a3f2442-4229-48b6-9ea0-f76e2b307a4e",
   "metadata": {},
   "outputs": [],
   "source": []
  }
 ],
 "metadata": {
  "kernelspec": {
   "display_name": "Python 3 (ipykernel)",
   "language": "python",
   "name": "python3"
  },
  "language_info": {
   "codemirror_mode": {
    "name": "ipython",
    "version": 3
   },
   "file_extension": ".py",
   "mimetype": "text/x-python",
   "name": "python",
   "nbconvert_exporter": "python",
   "pygments_lexer": "ipython3",
   "version": "3.11.6"
  }
 },
 "nbformat": 4,
 "nbformat_minor": 5
}
