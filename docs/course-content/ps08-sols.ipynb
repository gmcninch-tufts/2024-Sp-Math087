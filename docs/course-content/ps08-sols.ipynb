{
 "cells": [
  {
   "cell_type": "code",
   "execution_count": 10,
   "id": "3b005e00-14b4-4c68-86aa-d7022419eb09",
   "metadata": {},
   "outputs": [],
   "source": [
    "import numpy as np\n",
    "import math as math\n",
    "\n",
    "def poisson(p,m):\n",
    "   return (1.*p**m/ math.factorial(m))*np.exp(-p)\n",
    "\t  \n",
    "from numpy.random import default_rng\n",
    "rng=default_rng()\n",
    "   \n",
    "def arrival(p=1./7,M = 10,rng=default_rng()):\n",
    "  qq = list(map(lambda m:poisson(p,m),range(M)))\n",
    "  qq = qq + [1-sum(qq,0)]\n",
    "    \n",
    "  return rng.choice(list(range(M+1)),p=qq)   "
   ]
  },
  {
   "cell_type": "code",
   "execution_count": 11,
   "id": "998b5489-5bc8-4d10-bc61-33f63522fcf2",
   "metadata": {},
   "outputs": [],
   "source": [
    "class JFTE():\n",
    "    def __init__(self,N,prob=1./7):\n",
    "        self.customers = [arrival(prob) for n in range(N)]\n",
    "        self.num_days = N\n",
    "        self.reset()\n",
    "       \n",
    "    def reset(self):\n",
    "        self.stock = 1\n",
    "        self.sales = 0\n",
    "        self.lost_sales = 0\n",
    "        self.storage_days = 0\n",
    "        self.max_stock = 1\n",
    "       \n",
    "    def add_stock(self):\n",
    "        self.stock = self.stock + 1\n",
    "        if self.stock > self.max_stock:\n",
    "            self.max_stock = self.stock\n",
    "       \n",
    "    def sale(self):\n",
    "        self.stock = self.stock - 1\n",
    "        self.sales = self.sales + 1\n",
    "           \n",
    "    def result(self):\n",
    "        return { 'number_days': self.num_days,\n",
    "                 'weeks': self.num_days/7.0,\n",
    "                 'sales': self.sales,\n",
    "                 'lost_sales': self.lost_sales,\n",
    "                 'storage_days': self.storage_days,\n",
    "                 'max_stock': self.max_stock\n",
    "               }\n"
   ]
  },
  {
   "cell_type": "code",
   "execution_count": 12,
   "id": "9293f17b-2c4a-4277-bb21-697a12d90a36",
   "metadata": {},
   "outputs": [],
   "source": [
    "def stand_order(J,dow=6):\n",
    "    ## dow = arrival day-of-week for standing order; should be in [0,1,2,3,4,5,6]\n",
    "    ## we'll assume that the first day of the ``days`` list is dow=0.\n",
    "    \n",
    "    N = J.num_days\n",
    "    J.reset()\n",
    "\n",
    "    # loop through the days\n",
    "    for i in range(N):\n",
    "        c = J.customers[i]            ## c is 1 if there is a customer on day i, 0 otherwise\n",
    "        \n",
    "        if dow == np.mod(i,7):        ## add stock on the dow for order arrival\n",
    "            J.add_stock()\n",
    "            \n",
    "        if c>0 and J.stock == 0:\n",
    "            J.lost_sales = J.lost_sales + 1   ## lost sale if no stock\n",
    "            \n",
    "        if c>0 and J.stock > 0:               ## sale if adequate stock\n",
    "            J.sale()\n",
    "            \n",
    "        J.storage_days = J.storage_days + J.stock    ## accumulate total storage costs\n",
    "        \n",
    "    return J.result()"
   ]
  },
  {
   "cell_type": "code",
   "execution_count": 13,
   "id": "0ae809db-3edb-4fa0-b55b-1d98107db98c",
   "metadata": {},
   "outputs": [],
   "source": [
    "def order_on_demand(J):\n",
    "    J.reset()\n",
    "    order_wait = np.inf                        ## order_wait represents wait-time\n",
    "                                               ## until next order arrival\n",
    "\n",
    "    ## loop through the customers\n",
    "    for c in J.customers:\n",
    "        if c>0 and J.stock==0:                 ## record lost sale if no stock\n",
    "            J.lost_sales = J.lost_sales + 1\n",
    "            \n",
    "        if c>0 and J.stock>0:                  ## record sale if adequate stock\n",
    "            J.sale()\n",
    "            \n",
    "        J.storage_days += J.stock              ## accumulate storage days\n",
    "        \n",
    "        if  J.stock==0 and order_wait == np.inf:  ## reorder if stock is empty and no current order\n",
    "            order_wait = 5\n",
    "            \n",
    "        if order_wait == 0:                    ## stock arrives\n",
    "            J.add_stock()\n",
    "            order_wait = np.inf\n",
    "            \n",
    "        if order_wait>0:                       ## decrement arrival time for in-transit orders\n",
    "            order_wait -= 1\n",
    "            \n",
    "    return J.result()\n"
   ]
  },
  {
   "cell_type": "markdown",
   "id": "5b8e487a-7807-4d5e-97af-22065eba551d",
   "metadata": {},
   "source": [
    "We now create the trials"
   ]
  },
  {
   "cell_type": "code",
   "execution_count": 14,
   "id": "fba9691b-2902-4ad3-8d25-dda40ba61b6f",
   "metadata": {},
   "outputs": [],
   "source": [
    "import pandas as pd\n",
    "\n",
    "def make_trials(trial_weeks = 2*52, num_trials = 10):\n",
    "    return [ JFTE(7*trial_weeks) for _ in range(num_trials) ]\n",
    "\n",
    "def report_trials(strategy,trials):\n",
    "\n",
    "    results = [ strategy(t) for t in trials ]\n",
    "    \n",
    "    details = ['weeks', 'sales', 'lost_sales', 'storage_days', 'max_stock']\n",
    "\n",
    "    sd = {i: [r[i] for r in results ] for i in details}\n",
    "\n",
    "    return pd.DataFrame(sd)\n",
    "\n",
    "## make a list of 10 trials. Each trial has length 2 years\n",
    "ten_trials = make_trials()"
   ]
  },
  {
   "cell_type": "code",
   "execution_count": 15,
   "id": "ecab2e47-055c-406f-89ed-412c18d88b79",
   "metadata": {},
   "outputs": [
    {
     "name": "stdout",
     "output_type": "stream",
     "text": [
      "   weeks  sales  lost_sales  storage_days  max_stock\n",
      "0  104.0     93           3          6413         17\n",
      "1  104.0     98           2          4060         13\n",
      "2  104.0    101           2          3785         13\n",
      "3  104.0     99           0          5862         13\n",
      "4  104.0     91           0          8886         20\n",
      "5  104.0     78           0         13714         32\n",
      "6  104.0     97           6          6582         19\n",
      "7  104.0     99           1          3391         10\n",
      "8  104.0    101           6          1500          7\n",
      "9  104.0    103           5          2013          7\n"
     ]
    }
   ],
   "source": [
    "stand_results = report_trials(stand_order,ten_trials)\n",
    "print(stand_results)"
   ]
  },
  {
   "cell_type": "code",
   "execution_count": 16,
   "id": "6d0ac081-fd50-4727-be32-6f278d127d3d",
   "metadata": {},
   "outputs": [
    {
     "data": {
      "text/plain": [
       "weeks            104.0\n",
       "sales             96.0\n",
       "lost_sales         2.5\n",
       "storage_days    5620.6\n",
       "max_stock         15.1\n",
       "dtype: float64"
      ]
     },
     "execution_count": 16,
     "metadata": {},
     "output_type": "execute_result"
    }
   ],
   "source": [
    "stand_results.mean()"
   ]
  },
  {
   "cell_type": "code",
   "execution_count": 20,
   "id": "aa64951f-4837-448c-b9a0-323ebd76db97",
   "metadata": {},
   "outputs": [
    {
     "data": {
      "text/plain": [
       "weeks              0.000000\n",
       "sales              7.302967\n",
       "lost_sales         2.415229\n",
       "storage_days    3629.302970\n",
       "max_stock          7.445356\n",
       "dtype: float64"
      ]
     },
     "execution_count": 20,
     "metadata": {},
     "output_type": "execute_result"
    }
   ],
   "source": [
    "stand_results.std()"
   ]
  },
  {
   "cell_type": "code",
   "execution_count": 17,
   "id": "ea4c9b17-2736-4975-abb7-c07dd91b135f",
   "metadata": {},
   "outputs": [
    {
     "data": {
      "text/html": [
       "<div>\n",
       "<style scoped>\n",
       "    .dataframe tbody tr th:only-of-type {\n",
       "        vertical-align: middle;\n",
       "    }\n",
       "\n",
       "    .dataframe tbody tr th {\n",
       "        vertical-align: top;\n",
       "    }\n",
       "\n",
       "    .dataframe thead th {\n",
       "        text-align: right;\n",
       "    }\n",
       "</style>\n",
       "<table border=\"1\" class=\"dataframe\">\n",
       "  <thead>\n",
       "    <tr style=\"text-align: right;\">\n",
       "      <th></th>\n",
       "      <th>weeks</th>\n",
       "      <th>sales</th>\n",
       "      <th>lost_sales</th>\n",
       "      <th>storage_days</th>\n",
       "      <th>max_stock</th>\n",
       "    </tr>\n",
       "  </thead>\n",
       "  <tbody>\n",
       "    <tr>\n",
       "      <th>0</th>\n",
       "      <td>104.0</td>\n",
       "      <td>62</td>\n",
       "      <td>34</td>\n",
       "      <td>356</td>\n",
       "      <td>1</td>\n",
       "    </tr>\n",
       "    <tr>\n",
       "      <th>1</th>\n",
       "      <td>104.0</td>\n",
       "      <td>56</td>\n",
       "      <td>44</td>\n",
       "      <td>393</td>\n",
       "      <td>1</td>\n",
       "    </tr>\n",
       "    <tr>\n",
       "      <th>2</th>\n",
       "      <td>104.0</td>\n",
       "      <td>61</td>\n",
       "      <td>42</td>\n",
       "      <td>362</td>\n",
       "      <td>1</td>\n",
       "    </tr>\n",
       "    <tr>\n",
       "      <th>3</th>\n",
       "      <td>104.0</td>\n",
       "      <td>56</td>\n",
       "      <td>43</td>\n",
       "      <td>394</td>\n",
       "      <td>1</td>\n",
       "    </tr>\n",
       "    <tr>\n",
       "      <th>4</th>\n",
       "      <td>104.0</td>\n",
       "      <td>58</td>\n",
       "      <td>33</td>\n",
       "      <td>380</td>\n",
       "      <td>1</td>\n",
       "    </tr>\n",
       "    <tr>\n",
       "      <th>5</th>\n",
       "      <td>104.0</td>\n",
       "      <td>51</td>\n",
       "      <td>27</td>\n",
       "      <td>422</td>\n",
       "      <td>1</td>\n",
       "    </tr>\n",
       "    <tr>\n",
       "      <th>6</th>\n",
       "      <td>104.0</td>\n",
       "      <td>62</td>\n",
       "      <td>41</td>\n",
       "      <td>356</td>\n",
       "      <td>1</td>\n",
       "    </tr>\n",
       "    <tr>\n",
       "      <th>7</th>\n",
       "      <td>104.0</td>\n",
       "      <td>61</td>\n",
       "      <td>39</td>\n",
       "      <td>362</td>\n",
       "      <td>1</td>\n",
       "    </tr>\n",
       "    <tr>\n",
       "      <th>8</th>\n",
       "      <td>104.0</td>\n",
       "      <td>63</td>\n",
       "      <td>44</td>\n",
       "      <td>350</td>\n",
       "      <td>1</td>\n",
       "    </tr>\n",
       "    <tr>\n",
       "      <th>9</th>\n",
       "      <td>104.0</td>\n",
       "      <td>61</td>\n",
       "      <td>47</td>\n",
       "      <td>362</td>\n",
       "      <td>1</td>\n",
       "    </tr>\n",
       "  </tbody>\n",
       "</table>\n",
       "</div>"
      ],
      "text/plain": [
       "   weeks  sales  lost_sales  storage_days  max_stock\n",
       "0  104.0     62          34           356          1\n",
       "1  104.0     56          44           393          1\n",
       "2  104.0     61          42           362          1\n",
       "3  104.0     56          43           394          1\n",
       "4  104.0     58          33           380          1\n",
       "5  104.0     51          27           422          1\n",
       "6  104.0     62          41           356          1\n",
       "7  104.0     61          39           362          1\n",
       "8  104.0     63          44           350          1\n",
       "9  104.0     61          47           362          1"
      ]
     },
     "execution_count": 17,
     "metadata": {},
     "output_type": "execute_result"
    }
   ],
   "source": [
    "demand_results = report_trials(order_on_demand, ten_trials)\n",
    "demand_results"
   ]
  },
  {
   "cell_type": "code",
   "execution_count": 19,
   "id": "efc28f90-01a7-4814-aeec-642415e5784c",
   "metadata": {},
   "outputs": [
    {
     "data": {
      "text/plain": [
       "weeks           104.0\n",
       "sales            59.1\n",
       "lost_sales       39.4\n",
       "storage_days    373.7\n",
       "max_stock         1.0\n",
       "dtype: float64"
      ]
     },
     "execution_count": 19,
     "metadata": {},
     "output_type": "execute_result"
    }
   ],
   "source": [
    "demand_results.mean()"
   ]
  },
  {
   "cell_type": "code",
   "execution_count": null,
   "id": "6c3947a3-40eb-4d79-a999-6e98ccee00dd",
   "metadata": {},
   "outputs": [],
   "source": []
  }
 ],
 "metadata": {
  "kernelspec": {
   "display_name": "Python 3 (ipykernel)",
   "language": "python",
   "name": "python3"
  },
  "language_info": {
   "codemirror_mode": {
    "name": "ipython",
    "version": 3
   },
   "file_extension": ".py",
   "mimetype": "text/x-python",
   "name": "python",
   "nbconvert_exporter": "python",
   "pygments_lexer": "ipython3",
   "version": "3.11.6"
  }
 },
 "nbformat": 4,
 "nbformat_minor": 5
}
