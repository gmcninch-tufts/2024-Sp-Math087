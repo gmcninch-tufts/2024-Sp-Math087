{
 "cells": [
  {
   "cell_type": "markdown",
   "id": "df8d3e4e-331f-46a3-b042-ac5b12c56bd4",
   "metadata": {},
   "source": [
    "# problem 1\n"
   ]
  },
  {
   "cell_type": "code",
   "execution_count": 8,
   "id": "d80088e1-f744-4f95-b423-2448153853f9",
   "metadata": {},
   "outputs": [],
   "source": [
    "import numpy as np\n",
    "import numpy.linalg as la\n",
    "\n",
    "mass_estimates = {('a', 'b', 'c'): 551.03,\n",
    "                  ('a', 'b', 'd'): 353.19,\n",
    "                  ('a', 'b', 'e'): 574.36,\n",
    "                  ('a', 'c', 'd'): 506.1,\n",
    "                  ('a', 'c', 'e'): 724.92,\n",
    "                  ('a', 'd', 'e'): 531.9,\n",
    "                  ('b', 'c', 'd'): 478.21,\n",
    "                  ('b', 'c', 'e'): 701.98,\n",
    "                  ('b', 'd', 'e'): 504.75,\n",
    "                  ('c', 'd', 'e'): 653.07\n",
    "                  }\n",
    "\n",
    "b = np.array([551.03, 353.19, 574.36, 506.1, 724.92, 531.9, 478.21, 701.98, 504.75, 653.07])"
   ]
  },
  {
   "cell_type": "code",
   "execution_count": 15,
   "id": "61859016-0585-456f-8400-65a2819ce7aa",
   "metadata": {},
   "outputs": [
    {
     "data": {
      "text/plain": [
       "array([[1, 1, 1, 0, 0],\n",
       "       [1, 1, 0, 1, 0],\n",
       "       [1, 1, 0, 0, 1],\n",
       "       [1, 0, 1, 1, 0],\n",
       "       [1, 0, 1, 0, 1],\n",
       "       [1, 0, 0, 1, 1],\n",
       "       [0, 1, 1, 1, 0],\n",
       "       [0, 1, 1, 0, 1],\n",
       "       [0, 1, 0, 1, 1],\n",
       "       [0, 0, 1, 1, 1]])"
      ]
     },
     "execution_count": 15,
     "metadata": {},
     "output_type": "execute_result"
    }
   ],
   "source": [
    "def sbv(i,n):\n",
    "    # return the ith standard basis vector of length n\n",
    "    return np.array([1 if j == i else 0 for j in range(n)])\n",
    "\n",
    "def sbv_list(elem,ls):\n",
    "    # return the standard basis vector determined by the position of `elem` in the list `ls`\n",
    "    return sbv(list(ls).index(elem),len(ls))\n",
    "\n",
    "parts = ['a','b','c','d','e']\n",
    "\n",
    "M = np.array([sbv_list(x,parts) + sbv_list(y,parts) + sbv_list(z,parts) for (x,y,z) in mass_estimates.keys()])\n",
    "M\n",
    "\n"
   ]
  },
  {
   "cell_type": "code",
   "execution_count": 16,
   "id": "3be0052e-a6a9-42db-b0b0-52886773dc68",
   "metadata": {},
   "outputs": [
    {
     "data": {
      "text/plain": [
       "array([150.58166667, 124.58833333, 275.185     ,  79.155     ,\n",
       "       300.40833333])"
      ]
     },
     "execution_count": 16,
     "metadata": {},
     "output_type": "execute_result"
    }
   ],
   "source": [
    "\n",
    "sol = la.lstsq(M,b,rcond=None)\n",
    "sol[0]"
   ]
  },
  {
   "cell_type": "code",
   "execution_count": 17,
   "id": "14089eba-399a-435f-ae34-9c848e02689b",
   "metadata": {},
   "outputs": [
    {
     "data": {
      "text/plain": [
       "929.9183333333333"
      ]
     },
     "execution_count": 17,
     "metadata": {},
     "output_type": "execute_result"
    }
   ],
   "source": [
    "x=sol[0]\n",
    "np.sum(x)"
   ]
  },
  {
   "cell_type": "code",
   "execution_count": 18,
   "id": "db0148fc-f0e5-45fc-ab07-c2afbcfa5a81",
   "metadata": {},
   "outputs": [
    {
     "data": {
      "text/plain": [
       "array([ 0.675     , -1.135     , -1.21833333,  1.17833333, -1.255     ,\n",
       "        1.755     , -0.71833333,  1.79833333,  0.59833333, -1.67833333])"
      ]
     },
     "execution_count": 18,
     "metadata": {},
     "output_type": "execute_result"
    }
   ],
   "source": [
    "b - M @ x"
   ]
  },
  {
   "cell_type": "markdown",
   "id": "1e70c492-01ff-4489-b26c-fb05b34ca1ef",
   "metadata": {},
   "source": [
    "# problem 2\n"
   ]
  },
  {
   "cell_type": "code",
   "execution_count": 19,
   "id": "6e9be08f-63fc-443b-940e-538e7a6c24e9",
   "metadata": {},
   "outputs": [],
   "source": [
    "height_estimates = {0.0: 199.6,\n",
    "                    0.25: 202.96,\n",
    "                    0.5: 207.23,\n",
    "                    0.75: 208.29,\n",
    "                    1.0: 207.47,\n",
    "                    1.25: 203.96,\n",
    "                    1.5: 199.18,\n",
    "                    1.75: 202.91,\n",
    "                    2.0: 204.29,\n",
    "                    2.25: 196.31,\n",
    "                    2.5: 195.71,\n",
    "                    2.75: 187.89,\n",
    "                    3.0: 187.61,\n",
    "                    3.25: 177.12,\n",
    "                    3.5: 171.07,\n",
    "                    3.75: 171.89,\n",
    "                    4.0: 158.68,\n",
    "                    4.25: 152.64,\n",
    "                    4.5: 146.7,\n",
    "                    4.75: 138.52,\n",
    "                    5.0: 127.27,\n",
    "                    5.25: 122.38,\n",
    "                    5.5: 103.97,\n",
    "                    5.75: 96.91,\n",
    "                    6.0: 83.08,\n",
    "                    6.25: 67.34,\n",
    "                    6.5: 55.75,\n",
    "                    6.75: 45.42,\n",
    "                    7.0: 25.33,\n",
    "                    7.25: 14.67,\n",
    "                    7.5: -1.45}"
   ]
  },
  {
   "cell_type": "code",
   "execution_count": 20,
   "id": "5797ea8d-d2e6-4eb5-b421-4c2f7a45a742",
   "metadata": {},
   "outputs": [
    {
     "data": {
      "text/plain": [
       "[<matplotlib.lines.Line2D at 0x7f4220dd4210>]"
      ]
     },
     "execution_count": 20,
     "metadata": {},
     "output_type": "execute_result"
    },
    {
     "data": {
      "image/png": "[encoded data removed]",
      "text/plain": [
       "<Figure size 1200x600 with 1 Axes>"
      ]
     },
     "metadata": {},
     "output_type": "display_data"
    }
   ],
   "source": [
    "\n",
    "   import matplotlib.pyplot as plt\n",
    "   \n",
    "   def plot_data(x,y):\n",
    "     fig, ax = plt.subplots(figsize=(12,6))\n",
    "     return ax.plot(x,y,\"o\")\n",
    "   \n",
    "   x1 = height_estimates.keys()\n",
    "   y1 = list(height_estimates.values())\n",
    "   plot_data(x1,y1)   "
   ]
  },
  {
   "cell_type": "code",
   "execution_count": 24,
   "id": "1d85d3d5-2d0a-4a72-be35-8e8703278920",
   "metadata": {},
   "outputs": [
    {
     "data": {
      "text/plain": [
       "array([0.  , 0.25, 0.5 , 0.75, 1.  , 1.25, 1.5 , 1.75, 2.  , 2.25, 2.5 ,\n",
       "       2.75, 3.  , 3.25, 3.5 , 3.75, 4.  , 4.25, 4.5 , 4.75, 5.  , 5.25,\n",
       "       5.5 , 5.75, 6.  , 6.25, 6.5 , 6.75, 7.  , 7.25, 7.5 ])"
      ]
     },
     "execution_count": 24,
     "metadata": {},
     "output_type": "execute_result"
    }
   ],
   "source": [
    "x = np.array([ x for x in height_estimates.keys()])\n",
    "x"
   ]
  },
  {
   "cell_type": "code",
   "execution_count": 27,
   "id": "78b5ac50-1206-4df1-8bac-90ec866dfc6b",
   "metadata": {},
   "outputs": [
    {
     "data": {
      "text/plain": [
       "array([199.6 , 202.96, 207.23, 208.29, 207.47, 203.96, 199.18, 202.91,\n",
       "       204.29, 196.31, 195.71, 187.89, 187.61, 177.12, 171.07, 171.89,\n",
       "       158.68, 152.64, 146.7 , 138.52, 127.27, 122.38, 103.97,  96.91,\n",
       "        83.08,  67.34,  55.75,  45.42,  25.33,  14.67,  -1.45])"
      ]
     },
     "execution_count": 27,
     "metadata": {},
     "output_type": "execute_result"
    }
   ],
   "source": [
    "y = np.array([ y for y in height_estimates.values()])\n",
    "y"
   ]
  },
  {
   "cell_type": "code",
   "execution_count": 30,
   "id": "914f9599-c019-4518-8000-694ca4a3a87c",
   "metadata": {},
   "outputs": [
    {
     "data": {
      "text/plain": [
       "array([[ 0.    ,  0.    ,  1.    ],\n",
       "       [ 0.0625,  0.25  ,  1.    ],\n",
       "       [ 0.25  ,  0.5   ,  1.    ],\n",
       "       [ 0.5625,  0.75  ,  1.    ],\n",
       "       [ 1.    ,  1.    ,  1.    ],\n",
       "       [ 1.5625,  1.25  ,  1.    ],\n",
       "       [ 2.25  ,  1.5   ,  1.    ],\n",
       "       [ 3.0625,  1.75  ,  1.    ],\n",
       "       [ 4.    ,  2.    ,  1.    ],\n",
       "       [ 5.0625,  2.25  ,  1.    ],\n",
       "       [ 6.25  ,  2.5   ,  1.    ],\n",
       "       [ 7.5625,  2.75  ,  1.    ],\n",
       "       [ 9.    ,  3.    ,  1.    ],\n",
       "       [10.5625,  3.25  ,  1.    ],\n",
       "       [12.25  ,  3.5   ,  1.    ],\n",
       "       [14.0625,  3.75  ,  1.    ],\n",
       "       [16.    ,  4.    ,  1.    ],\n",
       "       [18.0625,  4.25  ,  1.    ],\n",
       "       [20.25  ,  4.5   ,  1.    ],\n",
       "       [22.5625,  4.75  ,  1.    ],\n",
       "       [25.    ,  5.    ,  1.    ],\n",
       "       [27.5625,  5.25  ,  1.    ],\n",
       "       [30.25  ,  5.5   ,  1.    ],\n",
       "       [33.0625,  5.75  ,  1.    ],\n",
       "       [36.    ,  6.    ,  1.    ],\n",
       "       [39.0625,  6.25  ,  1.    ],\n",
       "       [42.25  ,  6.5   ,  1.    ],\n",
       "       [45.5625,  6.75  ,  1.    ],\n",
       "       [49.    ,  7.    ,  1.    ],\n",
       "       [52.5625,  7.25  ,  1.    ],\n",
       "       [56.25  ,  7.5   ,  1.    ]])"
      ]
     },
     "execution_count": 30,
     "metadata": {},
     "output_type": "execute_result"
    }
   ],
   "source": [
    "M = np.array([[t**2, t, 1] for t in height_estimates.keys()])\n",
    "M"
   ]
  },
  {
   "cell_type": "code",
   "execution_count": 33,
   "id": "72f51ce1-f9a1-4509-9cca-9fd52c5c4473",
   "metadata": {},
   "outputs": [
    {
     "data": {
      "text/plain": [
       "(array([ -4.87577207,   9.52224214, 201.12954545]),\n",
       " array([197.4818912]),\n",
       " 3,\n",
       " array([145.51191959,   6.8395201 ,   1.73156458]))"
      ]
     },
     "execution_count": 33,
     "metadata": {},
     "output_type": "execute_result"
    }
   ],
   "source": [
    "sol = la.lstsq(M,y,rcond=None)\n",
    "sol"
   ]
  },
  {
   "cell_type": "code",
   "execution_count": 37,
   "id": "23daa407-8ce1-41ea-9f52-1596d985fcdc",
   "metadata": {},
   "outputs": [
    {
     "name": "stdout",
     "output_type": "stream",
     "text": [
      "Q(x) = -4.876*t^2 + 9.522*t + 201.130\n"
     ]
    }
   ],
   "source": [
    "alpha,beta,delta=sol[0]\n",
    "print(f\"Q(x) = {alpha:.03f}*t^2 + {beta:.03f}*t + {delta:.03f}\")\n"
   ]
  },
  {
   "cell_type": "code",
   "execution_count": 38,
   "id": "8ae69582-1b8b-4d5d-87e9-01e214118a82",
   "metadata": {},
   "outputs": [],
   "source": [
    "def Q(t):\n",
    "\treturn alpha*t**2 + beta*t + delta"
   ]
  },
  {
   "cell_type": "code",
   "execution_count": 39,
   "id": "59d8a69c-dfc2-448a-b216-a926706a10d7",
   "metadata": {},
   "outputs": [
    {
     "data": {
      "text/plain": [
       "201.12954545454554"
      ]
     },
     "execution_count": 39,
     "metadata": {},
     "output_type": "execute_result"
    }
   ],
   "source": [
    "delta"
   ]
  },
  {
   "cell_type": "code",
   "execution_count": 40,
   "id": "f8c9b85e-2b03-4a8e-8533-541297de5681",
   "metadata": {},
   "outputs": [
    {
     "data": {
      "text/plain": [
       "9.522242137728753"
      ]
     },
     "execution_count": 40,
     "metadata": {},
     "output_type": "execute_result"
    }
   ],
   "source": [
    "beta"
   ]
  },
  {
   "cell_type": "code",
   "execution_count": 41,
   "id": "7e689374-8ad1-41f7-ad22-3873df2b1d6e",
   "metadata": {},
   "outputs": [],
   "source": [
    "def plot_curve_fit(x0,f,x,y):\n",
    "    # graph the line with slope alpha and y-intercept beta, and plot the data points\n",
    "    #\n",
    "    fig,ax = plt.subplots(figsize=(12,6))\n",
    "    #ax.plot(x,alpha1*x + beta1)\n",
    "    ax.plot(x,y,'o')\n",
    "\n",
    "    ax.plot(x0,f(x0))\n",
    "\n",
    "    return fig,ax\n",
    "    "
   ]
  },
  {
   "cell_type": "code",
   "execution_count": 42,
   "id": "3055914e-a9ed-45fa-98de-f686bb252f41",
   "metadata": {},
   "outputs": [
    {
     "data": {
      "text/plain": [
       "(<Figure size 1200x600 with 1 Axes>, <Axes: >)"
      ]
     },
     "execution_count": 42,
     "metadata": {},
     "output_type": "execute_result"
    },
    {
     "data": {
      "image/png": "[encoded data removed]",
      "text/plain": [
       "<Figure size 1200x600 with 1 Axes>"
      ]
     },
     "metadata": {},
     "output_type": "display_data"
    }
   ],
   "source": [
    "plot_curve_fit(x,Q,x,y)"
   ]
  },
  {
   "cell_type": "code",
   "execution_count": 45,
   "id": "208e55a6-c397-4735-8e0e-2e357a1ddfcf",
   "metadata": {},
   "outputs": [
    {
     "data": {
      "text/plain": [
       "array([[0.  , 1.  ],\n",
       "       [0.25, 1.  ],\n",
       "       [0.5 , 1.  ],\n",
       "       [0.75, 1.  ],\n",
       "       [1.  , 1.  ],\n",
       "       [1.25, 1.  ],\n",
       "       [1.5 , 1.  ],\n",
       "       [1.75, 1.  ],\n",
       "       [2.  , 1.  ],\n",
       "       [2.25, 1.  ],\n",
       "       [2.5 , 1.  ],\n",
       "       [2.75, 1.  ],\n",
       "       [3.  , 1.  ],\n",
       "       [3.25, 1.  ],\n",
       "       [3.5 , 1.  ],\n",
       "       [3.75, 1.  ],\n",
       "       [4.  , 1.  ],\n",
       "       [4.25, 1.  ],\n",
       "       [4.5 , 1.  ],\n",
       "       [4.75, 1.  ],\n",
       "       [5.  , 1.  ],\n",
       "       [5.25, 1.  ],\n",
       "       [5.5 , 1.  ],\n",
       "       [5.75, 1.  ],\n",
       "       [6.  , 1.  ],\n",
       "       [6.25, 1.  ],\n",
       "       [6.5 , 1.  ],\n",
       "       [6.75, 1.  ],\n",
       "       [7.  , 1.  ],\n",
       "       [7.25, 1.  ],\n",
       "       [7.5 , 1.  ]])"
      ]
     },
     "execution_count": 45,
     "metadata": {},
     "output_type": "execute_result"
    }
   ],
   "source": [
    "N = np.array([[t,1] for t in height_estimates.keys()])\n",
    "N"
   ]
  },
  {
   "cell_type": "code",
   "execution_count": 53,
   "id": "53a998cd-eea2-46c1-ae66-5d5e9ebe0825",
   "metadata": {},
   "outputs": [
    {
     "data": {
      "text/plain": [
       "array([199.6    , 203.26625, 208.455  , 211.04625, 212.37   , 211.61625,\n",
       "       210.205  , 217.91625, 223.89   , 221.11625, 226.335  , 224.94625,\n",
       "       231.71   , 228.87625, 231.095  , 240.79625, 237.08   , 241.14625,\n",
       "       245.925  , 249.07625, 249.77   , 257.43625, 252.195  , 258.91625,\n",
       "       259.48   , 258.74625, 262.775  , 268.67625, 265.43   , 272.22625,\n",
       "       274.175  ])"
      ]
     },
     "execution_count": 53,
     "metadata": {},
     "output_type": "execute_result"
    }
   ],
   "source": [
    "z = np.array([9.8 * t**2 /2. + height_estimates[t] for t in height_estimates.keys()])\n",
    "z"
   ]
  },
  {
   "cell_type": "code",
   "execution_count": 54,
   "id": "5ac11716-6175-4434-ae89-2a69b5583f3c",
   "metadata": {},
   "outputs": [
    {
     "data": {
      "text/plain": [
       "(array([  9.70395161, 200.90997984]),\n",
       " array([197.84468931]),\n",
       " 2,\n",
       " array([24.78130767,  2.79719328]))"
      ]
     },
     "execution_count": 54,
     "metadata": {},
     "output_type": "execute_result"
    }
   ],
   "source": [
    "sol2 = la.lstsq(N,z,rcond=None)\n",
    "sol2"
   ]
  },
  {
   "cell_type": "code",
   "execution_count": 55,
   "id": "8de342fb-2c67-4cf8-990f-670265e4f4c8",
   "metadata": {},
   "outputs": [
    {
     "name": "stdout",
     "output_type": "stream",
     "text": [
      "Q(x) = -4.900*t^2 + 9.704*t + 200.910\n"
     ]
    }
   ],
   "source": [
    "beta1,delta1 = sol2[0]\n",
    "print(f\"Q(x) = {-9.8/2:.03f}*t^2 + {beta1:.03f}*t + {delta1:.03f}\")\n",
    "\n"
   ]
  },
  {
   "cell_type": "code",
   "execution_count": 56,
   "id": "475743a9-2d52-461f-b572-4c3b2d74d5b0",
   "metadata": {},
   "outputs": [
    {
     "data": {
      "text/plain": [
       "9.703951612903246"
      ]
     },
     "execution_count": 56,
     "metadata": {},
     "output_type": "execute_result"
    }
   ],
   "source": [
    "beta1"
   ]
  },
  {
   "cell_type": "code",
   "execution_count": 57,
   "id": "5abfd6f8-9be9-49ae-aba8-70268fae7ed1",
   "metadata": {},
   "outputs": [
    {
     "data": {
      "text/plain": [
       "200.90997983870963"
      ]
     },
     "execution_count": 57,
     "metadata": {},
     "output_type": "execute_result"
    }
   ],
   "source": [
    "delta1\n"
   ]
  },
  {
   "cell_type": "code",
   "execution_count": 58,
   "id": "5b51d426-30a8-4287-9e9c-9f5271a096f8",
   "metadata": {},
   "outputs": [],
   "source": [
    "def Qnew(t):\n",
    "   return (-9.8/2)*t**2 + beta1*t + delta1\n"
   ]
  },
  {
   "cell_type": "code",
   "execution_count": 59,
   "id": "15db40ab-f3b9-4d07-bfb2-723fbe46ba33",
   "metadata": {},
   "outputs": [
    {
     "data": {
      "text/plain": [
       "(<Figure size 1200x600 with 1 Axes>, <Axes: >)"
      ]
     },
     "execution_count": 59,
     "metadata": {},
     "output_type": "execute_result"
    },
    {
     "data": {
      "image/png": "[encoded data removed]",
      "text/plain": [
       "<Figure size 1200x600 with 1 Axes>"
      ]
     },
     "metadata": {},
     "output_type": "display_data"
    }
   ],
   "source": [
    "plot_curve_fit(x,Qnew,x,y)"
   ]
  },
  {
   "cell_type": "code",
   "execution_count": null,
   "id": "0ea91417-c7c4-4e6f-901a-845c58f7e83d",
   "metadata": {},
   "outputs": [],
   "source": []
  }
 ],
 "metadata": {
  "kernelspec": {
   "display_name": "Python 3 (ipykernel)",
   "language": "python",
   "name": "python3"
  },
  "language_info": {
   "codemirror_mode": {
    "name": "ipython",
    "version": 3
   },
   "file_extension": ".py",
   "mimetype": "text/x-python",
   "name": "python",
   "nbconvert_exporter": "python",
   "pygments_lexer": "ipython3",
   "version": "3.11.6"
  }
 },
 "nbformat": 4,
 "nbformat_minor": 5
}
