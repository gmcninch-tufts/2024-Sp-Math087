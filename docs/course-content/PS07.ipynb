{
 "cells": [
  {
   "cell_type": "code",
   "execution_count": 46,
   "id": "1f75e77a-ff92-48e1-bde9-82b63684a74e",
   "metadata": {},
   "outputs": [],
   "source": [
    "import numpy as np\n",
    "\n",
    "from numpy.random import default_rng\n",
    "rng = default_rng()\n",
    "\n",
    "def randomPoint():\n",
    "    # return a random point in the rectangl [1/2,1] x [0,4]\n",
    "    return (rng.uniform(1/2,1),rng.uniform(0,4))\n",
    "\n",
    "def estimate(n):\n",
    "    ll = [ randomPoint() for _ in range(n) ]    # make a list of n random points\n",
    "    lr = [ (x,y) for (x,y) in ll if y <= 1/x ]  # find the points below the curve\n",
    "    return len(lr)/len(ll)                      # return the fraction of points below the curve\n",
    "\n"
   ]
  },
  {
   "cell_type": "code",
   "execution_count": 47,
   "id": "8aa58fba-9829-4998-90fb-bdbf0d37215a",
   "metadata": {},
   "outputs": [
    {
     "data": {
      "text/plain": [
       "0.34657359027997264"
      ]
     },
     "execution_count": 47,
     "metadata": {},
     "output_type": "execute_result"
    }
   ],
   "source": [
    "np.log(2)/2"
   ]
  },
  {
   "cell_type": "code",
   "execution_count": 48,
   "id": "5fc45a56-0228-4efe-aecb-6ab796aaf3f2",
   "metadata": {},
   "outputs": [
    {
     "data": {
      "text/plain": [
       "0.3468"
      ]
     },
     "execution_count": 48,
     "metadata": {},
     "output_type": "execute_result"
    }
   ],
   "source": [
    "estimate(100000)"
   ]
  },
  {
   "cell_type": "code",
   "execution_count": 49,
   "id": "403f956b-0336-4f1c-a933-7e9271dac07b",
   "metadata": {},
   "outputs": [
    {
     "data": {
      "text/plain": [
       "[(10, 0.3435),\n",
       " (12, 0.34475),\n",
       " (14, 0.3517857142857143),\n",
       " (16, 0.3469375),\n",
       " (18, 0.3486666666666667),\n",
       " (20, 0.34095),\n",
       " (22, 0.343),\n",
       " (24, 0.346875),\n",
       " (26, 0.3515),\n",
       " (28, 0.34567857142857145),\n",
       " (30, 0.3461),\n",
       " (32, 0.348375),\n",
       " (34, 0.34461764705882353),\n",
       " (36, 0.3483611111111111),\n",
       " (38, 0.34671052631578947)]"
      ]
     },
     "execution_count": 49,
     "metadata": {},
     "output_type": "execute_result"
    }
   ],
   "source": [
    "[ (n,estimate(1000*n)) for n in range(10,40,2)]"
   ]
  },
  {
   "cell_type": "markdown",
   "id": "be0e97d1-4efa-439a-9980-5ee8a5196457",
   "metadata": {},
   "source": [
    "Day \tSun \tMon \tTue \tWed \tThur \tFri \tSat\n",
    "DOW \t0 \t1 \t2 \t3 \t4 \t5 \t6\n",
    "Prob \t0.16 \t0.08 \t0.04 \t0.08 \t0.12 \t0.25 \t0.27\n"
   ]
  },
  {
   "cell_type": "code",
   "execution_count": 66,
   "id": "94b189d0-bc86-4695-899f-cedf52d1eb8c",
   "metadata": {},
   "outputs": [],
   "source": [
    "new_dow_probs = { 0: .16,\n",
    "              1: .08,\n",
    "              2: .04,\n",
    "              3: .08,\n",
    "              4: .12,\n",
    "              5: .25,\n",
    "              6: .27 }\n",
    "\n"
   ]
  },
  {
   "cell_type": "code",
   "execution_count": 61,
   "id": "dc2a3f3d-febf-4a31-a022-2729e0556192",
   "metadata": {},
   "outputs": [],
   "source": [
    "def customer_alt(d,dow_probs):\n",
    "    pp = dow_probs[np.mod(d,7)]\n",
    "    return rng.choice([1,0],p=[pp,1-pp])\n",
    "                               \n"
   ]
  },
  {
   "cell_type": "code",
   "execution_count": 62,
   "id": "bc2b3178-11be-46b3-8436-0b3f270fcc21",
   "metadata": {},
   "outputs": [],
   "source": [
    "\n",
    "class JFTE():\n",
    "    def __init__(self,N,dow_probs):\n",
    "        self.customers = [customer_alt(n,dow_probs) for n in range(N)]\n",
    "        self.num_days = N\n",
    "        self.reset()\n",
    "    \n",
    "    def reset(self):\n",
    "        self.stock = 1\n",
    "        self.sales = 0\n",
    "        self.lost_sales = 0\n",
    "        self.storage_days = 0\n",
    "        self.max_stock = 1\n",
    "    \n",
    "    def add_stock(self):\n",
    "        self.stock = self.stock + 1\n",
    "        if self.stock > self.max_stock:\n",
    "            self.max_stock = self.stock\n",
    "    \n",
    "    def sale(self):\n",
    "        self.stock = self.stock - 1\n",
    "        self.sales = self.sales + 1\n",
    "        \n",
    "    def result(self):\n",
    "        return { 'number_days': self.num_days,\n",
    "                 'weeks': self.num_days/7.0,\n",
    "                 'sales': self.sales,\n",
    "                 'lost_sales': self.lost_sales,\n",
    "                 'storage_days': self.storage_days,\n",
    "                 'max_stock': self.max_stock\n",
    "               }\n",
    "\n",
    "\n",
    "def stand_order(J,dow=6):\n",
    "    ## dow = arrival day-of-week for standing order; should be in [0,1,2,3,4,5,6]\n",
    "    ## we'll assume that the first day of the ``days`` list is dow=0.\n",
    "    \n",
    "    N = J.num_days\n",
    "    J.reset()\n",
    "\n",
    "    # loop through the days\n",
    "    for i in range(N):\n",
    "        c = J.customers[i]            ## c is 1 if there is a customer on day i, 0 otherwise\n",
    "        \n",
    "        if dow == np.mod(i,7):        ## add stock on the dow for order arrival\n",
    "            J.add_stock()\n",
    "            \n",
    "        if c>0 and J.stock == 0:\n",
    "            J.lost_sales = J.lost_sales + 1   ## lost sale if no stock\n",
    "            \n",
    "        if c>0 and J.stock > 0:               ## sale if adequate stock\n",
    "            J.sale()\n",
    "            \n",
    "        J.storage_days = J.storage_days + J.stock    ## accumulate total storage costs\n",
    "        \n",
    "    return J.result()\n",
    "\n",
    "def order_on_demand(J):\n",
    "    J.reset()\n",
    "    order_wait = np.inf                        ## order_wait represents wait-time\n",
    "                                               ## until next order arrival\n",
    "\n",
    "    ## loop through the customers\n",
    "    for c in J.customers:\n",
    "        if c>0 and J.stock==0:                 ## record lost sale if no stock\n",
    "            J.lost_sales = J.lost_sales + 1\n",
    "            \n",
    "        if c>0 and J.stock>0:                  ## record sale if adequate stock\n",
    "            J.sale()\n",
    "            \n",
    "        J.storage_days += J.stock              ## accumulate storage days\n",
    "        \n",
    "        if  J.stock==0 and order_wait == np.inf:  ## reorder if stock is empty and no current order\n",
    "            order_wait = 5\n",
    "            \n",
    "        if order_wait == 0:                    ## stock arrives\n",
    "            J.add_stock()\n",
    "            order_wait = np.inf\n",
    "            \n",
    "        if order_wait>0:                       ## decrement arrival time for in-transit orders\n",
    "            order_wait -= 1\n",
    "            \n",
    "    return J.result()"
   ]
  },
  {
   "cell_type": "code",
   "execution_count": 67,
   "id": "474cfc4c-49e2-4fa8-beb6-5677b7e4a4bf",
   "metadata": {},
   "outputs": [],
   "source": [
    "import pandas as pd\n",
    "\n",
    "def make_trials(dow_probs,trial_weeks = 2*52, num_trials = 10):\n",
    "    return [ JFTE(7*trial_weeks,dow_probs=dow_probs) for _ in range(num_trials) ]\n",
    "\n",
    "def report_trials(strategy,trials):\n",
    "\n",
    "    results = [ strategy(t) for t in trials ]\n",
    "    \n",
    "    details = ['weeks', 'sales', 'lost_sales', 'storage_days', 'max_stock']\n",
    "\n",
    "    sd = {i: [r[i] for r in results ] for i in details}\n",
    "\n",
    "    return pd.DataFrame(sd)\n",
    "\n",
    "## make a list of 10 trials. Each trial has length 2 years\n",
    "ten_trials = make_trials(new_dow_probs)"
   ]
  },
  {
   "cell_type": "code",
   "execution_count": 56,
   "id": "f4e895c7-14a8-4d46-bc6e-691d428a95c9",
   "metadata": {},
   "outputs": [
    {
     "data": {
      "text/html": [
       "<div>\n",
       "<style scoped>\n",
       "    .dataframe tbody tr th:only-of-type {\n",
       "        vertical-align: middle;\n",
       "    }\n",
       "\n",
       "    .dataframe tbody tr th {\n",
       "        vertical-align: top;\n",
       "    }\n",
       "\n",
       "    .dataframe thead th {\n",
       "        text-align: right;\n",
       "    }\n",
       "</style>\n",
       "<table border=\"1\" class=\"dataframe\">\n",
       "  <thead>\n",
       "    <tr style=\"text-align: right;\">\n",
       "      <th></th>\n",
       "      <th>weeks</th>\n",
       "      <th>sales</th>\n",
       "      <th>lost_sales</th>\n",
       "      <th>storage_days</th>\n",
       "      <th>max_stock</th>\n",
       "    </tr>\n",
       "  </thead>\n",
       "  <tbody>\n",
       "    <tr>\n",
       "      <th>0</th>\n",
       "      <td>104.0</td>\n",
       "      <td>91</td>\n",
       "      <td>12</td>\n",
       "      <td>3573</td>\n",
       "      <td>14</td>\n",
       "    </tr>\n",
       "    <tr>\n",
       "      <th>1</th>\n",
       "      <td>104.0</td>\n",
       "      <td>103</td>\n",
       "      <td>13</td>\n",
       "      <td>1805</td>\n",
       "      <td>7</td>\n",
       "    </tr>\n",
       "    <tr>\n",
       "      <th>2</th>\n",
       "      <td>104.0</td>\n",
       "      <td>97</td>\n",
       "      <td>10</td>\n",
       "      <td>1819</td>\n",
       "      <td>8</td>\n",
       "    </tr>\n",
       "    <tr>\n",
       "      <th>3</th>\n",
       "      <td>104.0</td>\n",
       "      <td>103</td>\n",
       "      <td>0</td>\n",
       "      <td>2083</td>\n",
       "      <td>6</td>\n",
       "    </tr>\n",
       "    <tr>\n",
       "      <th>4</th>\n",
       "      <td>104.0</td>\n",
       "      <td>99</td>\n",
       "      <td>0</td>\n",
       "      <td>3548</td>\n",
       "      <td>9</td>\n",
       "    </tr>\n",
       "    <tr>\n",
       "      <th>5</th>\n",
       "      <td>104.0</td>\n",
       "      <td>92</td>\n",
       "      <td>7</td>\n",
       "      <td>6062</td>\n",
       "      <td>16</td>\n",
       "    </tr>\n",
       "    <tr>\n",
       "      <th>6</th>\n",
       "      <td>104.0</td>\n",
       "      <td>86</td>\n",
       "      <td>2</td>\n",
       "      <td>6980</td>\n",
       "      <td>19</td>\n",
       "    </tr>\n",
       "    <tr>\n",
       "      <th>7</th>\n",
       "      <td>104.0</td>\n",
       "      <td>93</td>\n",
       "      <td>8</td>\n",
       "      <td>2630</td>\n",
       "      <td>12</td>\n",
       "    </tr>\n",
       "    <tr>\n",
       "      <th>8</th>\n",
       "      <td>104.0</td>\n",
       "      <td>102</td>\n",
       "      <td>6</td>\n",
       "      <td>3408</td>\n",
       "      <td>11</td>\n",
       "    </tr>\n",
       "    <tr>\n",
       "      <th>9</th>\n",
       "      <td>104.0</td>\n",
       "      <td>97</td>\n",
       "      <td>5</td>\n",
       "      <td>4687</td>\n",
       "      <td>14</td>\n",
       "    </tr>\n",
       "  </tbody>\n",
       "</table>\n",
       "</div>"
      ],
      "text/plain": [
       "   weeks  sales  lost_sales  storage_days  max_stock\n",
       "0  104.0     91          12          3573         14\n",
       "1  104.0    103          13          1805          7\n",
       "2  104.0     97          10          1819          8\n",
       "3  104.0    103           0          2083          6\n",
       "4  104.0     99           0          3548          9\n",
       "5  104.0     92           7          6062         16\n",
       "6  104.0     86           2          6980         19\n",
       "7  104.0     93           8          2630         12\n",
       "8  104.0    102           6          3408         11\n",
       "9  104.0     97           5          4687         14"
      ]
     },
     "execution_count": 56,
     "metadata": {},
     "output_type": "execute_result"
    }
   ],
   "source": [
    "stand_results = report_trials(stand_order,ten_trials)\n",
    "stand_results"
   ]
  },
  {
   "cell_type": "code",
   "execution_count": 55,
   "id": "c6494eea-4e49-4161-82a8-042df1da59b3",
   "metadata": {},
   "outputs": [
    {
     "data": {
      "text/html": [
       "<div>\n",
       "<style scoped>\n",
       "    .dataframe tbody tr th:only-of-type {\n",
       "        vertical-align: middle;\n",
       "    }\n",
       "\n",
       "    .dataframe tbody tr th {\n",
       "        vertical-align: top;\n",
       "    }\n",
       "\n",
       "    .dataframe thead th {\n",
       "        text-align: right;\n",
       "    }\n",
       "</style>\n",
       "<table border=\"1\" class=\"dataframe\">\n",
       "  <thead>\n",
       "    <tr style=\"text-align: right;\">\n",
       "      <th></th>\n",
       "      <th>weeks</th>\n",
       "      <th>sales</th>\n",
       "      <th>lost_sales</th>\n",
       "      <th>storage_days</th>\n",
       "      <th>max_stock</th>\n",
       "    </tr>\n",
       "  </thead>\n",
       "  <tbody>\n",
       "    <tr>\n",
       "      <th>0</th>\n",
       "      <td>104.0</td>\n",
       "      <td>61</td>\n",
       "      <td>42</td>\n",
       "      <td>362</td>\n",
       "      <td>1</td>\n",
       "    </tr>\n",
       "    <tr>\n",
       "      <th>1</th>\n",
       "      <td>104.0</td>\n",
       "      <td>69</td>\n",
       "      <td>47</td>\n",
       "      <td>314</td>\n",
       "      <td>1</td>\n",
       "    </tr>\n",
       "    <tr>\n",
       "      <th>2</th>\n",
       "      <td>104.0</td>\n",
       "      <td>66</td>\n",
       "      <td>41</td>\n",
       "      <td>332</td>\n",
       "      <td>1</td>\n",
       "    </tr>\n",
       "    <tr>\n",
       "      <th>3</th>\n",
       "      <td>104.0</td>\n",
       "      <td>65</td>\n",
       "      <td>38</td>\n",
       "      <td>338</td>\n",
       "      <td>1</td>\n",
       "    </tr>\n",
       "    <tr>\n",
       "      <th>4</th>\n",
       "      <td>104.0</td>\n",
       "      <td>63</td>\n",
       "      <td>36</td>\n",
       "      <td>354</td>\n",
       "      <td>1</td>\n",
       "    </tr>\n",
       "    <tr>\n",
       "      <th>5</th>\n",
       "      <td>104.0</td>\n",
       "      <td>63</td>\n",
       "      <td>36</td>\n",
       "      <td>354</td>\n",
       "      <td>1</td>\n",
       "    </tr>\n",
       "    <tr>\n",
       "      <th>6</th>\n",
       "      <td>104.0</td>\n",
       "      <td>55</td>\n",
       "      <td>33</td>\n",
       "      <td>402</td>\n",
       "      <td>1</td>\n",
       "    </tr>\n",
       "    <tr>\n",
       "      <th>7</th>\n",
       "      <td>104.0</td>\n",
       "      <td>63</td>\n",
       "      <td>38</td>\n",
       "      <td>350</td>\n",
       "      <td>1</td>\n",
       "    </tr>\n",
       "    <tr>\n",
       "      <th>8</th>\n",
       "      <td>104.0</td>\n",
       "      <td>69</td>\n",
       "      <td>39</td>\n",
       "      <td>316</td>\n",
       "      <td>1</td>\n",
       "    </tr>\n",
       "    <tr>\n",
       "      <th>9</th>\n",
       "      <td>104.0</td>\n",
       "      <td>65</td>\n",
       "      <td>37</td>\n",
       "      <td>338</td>\n",
       "      <td>1</td>\n",
       "    </tr>\n",
       "  </tbody>\n",
       "</table>\n",
       "</div>"
      ],
      "text/plain": [
       "   weeks  sales  lost_sales  storage_days  max_stock\n",
       "0  104.0     61          42           362          1\n",
       "1  104.0     69          47           314          1\n",
       "2  104.0     66          41           332          1\n",
       "3  104.0     65          38           338          1\n",
       "4  104.0     63          36           354          1\n",
       "5  104.0     63          36           354          1\n",
       "6  104.0     55          33           402          1\n",
       "7  104.0     63          38           350          1\n",
       "8  104.0     69          39           316          1\n",
       "9  104.0     65          37           338          1"
      ]
     },
     "execution_count": 55,
     "metadata": {},
     "output_type": "execute_result"
    }
   ],
   "source": [
    "demand_results = report_trials(order_on_demand, ten_trials)\n",
    "demand_results"
   ]
  },
  {
   "cell_type": "code",
   "execution_count": 57,
   "id": "4847b9d6-43a4-4050-948c-8c3742565672",
   "metadata": {},
   "outputs": [
    {
     "data": {
      "text/plain": [
       "weeks            104.0\n",
       "sales             96.3\n",
       "lost_sales         6.3\n",
       "storage_days    3659.5\n",
       "max_stock         11.6\n",
       "dtype: float64"
      ]
     },
     "execution_count": 57,
     "metadata": {},
     "output_type": "execute_result"
    }
   ],
   "source": [
    "stand_results.mean()"
   ]
  },
  {
   "cell_type": "code",
   "execution_count": 59,
   "id": "ea2b4c06-b222-4fb9-8da6-0041569885f9",
   "metadata": {},
   "outputs": [
    {
     "data": {
      "text/plain": [
       "weeks           104.0\n",
       "sales            63.9\n",
       "lost_sales       38.7\n",
       "storage_days    346.0\n",
       "max_stock         1.0\n",
       "dtype: float64"
      ]
     },
     "execution_count": 59,
     "metadata": {},
     "output_type": "execute_result"
    }
   ],
   "source": [
    "demand_results.mean()"
   ]
  },
  {
   "cell_type": "code",
   "execution_count": 69,
   "id": "0220e78f-32d8-4369-9375-750b97ed9a64",
   "metadata": {},
   "outputs": [
    {
     "data": {
      "text/plain": [
       "{0: 0.14285714285714285,\n",
       " 1: 0.14285714285714285,\n",
       " 2: 0.14285714285714285,\n",
       " 3: 0.14285714285714285,\n",
       " 4: 0.14285714285714285,\n",
       " 5: 0.14285714285714285,\n",
       " 6: 0.14285714285714285}"
      ]
     },
     "execution_count": 69,
     "metadata": {},
     "output_type": "execute_result"
    }
   ],
   "source": [
    "const_probs = { n: 1./7 for n in range(7) }\n",
    "const_probs"
   ]
  },
  {
   "cell_type": "code",
   "execution_count": 71,
   "id": "4fde924b-ee0c-4dc4-a82f-526a26e2c0bb",
   "metadata": {},
   "outputs": [],
   "source": [
    "\n",
    "## make a list of 10 trials. Each trial has length 2 years\n",
    "## this time use constant probabilities\n",
    "const_ten_trials = make_trials(const_probs)"
   ]
  },
  {
   "cell_type": "code",
   "execution_count": 73,
   "id": "706ef242-904d-4c95-9dc2-0b4eb7c218ff",
   "metadata": {},
   "outputs": [],
   "source": [
    "const_stand_results = report_trials(stand_order,const_ten_trials)\n",
    "const_demand_results = report_trials(order_on_demand,const_ten_trials)"
   ]
  },
  {
   "cell_type": "code",
   "execution_count": 74,
   "id": "58c7950e-716e-4abe-9465-a586911d0708",
   "metadata": {},
   "outputs": [
    {
     "data": {
      "text/html": [
       "<div>\n",
       "<style scoped>\n",
       "    .dataframe tbody tr th:only-of-type {\n",
       "        vertical-align: middle;\n",
       "    }\n",
       "\n",
       "    .dataframe tbody tr th {\n",
       "        vertical-align: top;\n",
       "    }\n",
       "\n",
       "    .dataframe thead th {\n",
       "        text-align: right;\n",
       "    }\n",
       "</style>\n",
       "<table border=\"1\" class=\"dataframe\">\n",
       "  <thead>\n",
       "    <tr style=\"text-align: right;\">\n",
       "      <th></th>\n",
       "      <th>weeks</th>\n",
       "      <th>sales</th>\n",
       "      <th>lost_sales</th>\n",
       "      <th>storage_days</th>\n",
       "      <th>max_stock</th>\n",
       "    </tr>\n",
       "  </thead>\n",
       "  <tbody>\n",
       "    <tr>\n",
       "      <th>0</th>\n",
       "      <td>104.0</td>\n",
       "      <td>102</td>\n",
       "      <td>1</td>\n",
       "      <td>3331</td>\n",
       "      <td>10</td>\n",
       "    </tr>\n",
       "    <tr>\n",
       "      <th>1</th>\n",
       "      <td>104.0</td>\n",
       "      <td>94</td>\n",
       "      <td>0</td>\n",
       "      <td>4322</td>\n",
       "      <td>12</td>\n",
       "    </tr>\n",
       "    <tr>\n",
       "      <th>2</th>\n",
       "      <td>104.0</td>\n",
       "      <td>98</td>\n",
       "      <td>15</td>\n",
       "      <td>1430</td>\n",
       "      <td>9</td>\n",
       "    </tr>\n",
       "    <tr>\n",
       "      <th>3</th>\n",
       "      <td>104.0</td>\n",
       "      <td>92</td>\n",
       "      <td>2</td>\n",
       "      <td>5146</td>\n",
       "      <td>14</td>\n",
       "    </tr>\n",
       "    <tr>\n",
       "      <th>4</th>\n",
       "      <td>104.0</td>\n",
       "      <td>100</td>\n",
       "      <td>9</td>\n",
       "      <td>1834</td>\n",
       "      <td>8</td>\n",
       "    </tr>\n",
       "    <tr>\n",
       "      <th>5</th>\n",
       "      <td>104.0</td>\n",
       "      <td>102</td>\n",
       "      <td>6</td>\n",
       "      <td>2704</td>\n",
       "      <td>10</td>\n",
       "    </tr>\n",
       "    <tr>\n",
       "      <th>6</th>\n",
       "      <td>104.0</td>\n",
       "      <td>98</td>\n",
       "      <td>6</td>\n",
       "      <td>2273</td>\n",
       "      <td>9</td>\n",
       "    </tr>\n",
       "    <tr>\n",
       "      <th>7</th>\n",
       "      <td>104.0</td>\n",
       "      <td>91</td>\n",
       "      <td>0</td>\n",
       "      <td>8034</td>\n",
       "      <td>16</td>\n",
       "    </tr>\n",
       "    <tr>\n",
       "      <th>8</th>\n",
       "      <td>104.0</td>\n",
       "      <td>95</td>\n",
       "      <td>2</td>\n",
       "      <td>3031</td>\n",
       "      <td>10</td>\n",
       "    </tr>\n",
       "    <tr>\n",
       "      <th>9</th>\n",
       "      <td>104.0</td>\n",
       "      <td>101</td>\n",
       "      <td>8</td>\n",
       "      <td>2369</td>\n",
       "      <td>9</td>\n",
       "    </tr>\n",
       "  </tbody>\n",
       "</table>\n",
       "</div>"
      ],
      "text/plain": [
       "   weeks  sales  lost_sales  storage_days  max_stock\n",
       "0  104.0    102           1          3331         10\n",
       "1  104.0     94           0          4322         12\n",
       "2  104.0     98          15          1430          9\n",
       "3  104.0     92           2          5146         14\n",
       "4  104.0    100           9          1834          8\n",
       "5  104.0    102           6          2704         10\n",
       "6  104.0     98           6          2273          9\n",
       "7  104.0     91           0          8034         16\n",
       "8  104.0     95           2          3031         10\n",
       "9  104.0    101           8          2369          9"
      ]
     },
     "execution_count": 74,
     "metadata": {},
     "output_type": "execute_result"
    }
   ],
   "source": [
    "const_stand_results"
   ]
  },
  {
   "cell_type": "code",
   "execution_count": 75,
   "id": "ece9b06f-1c54-46cf-a40b-5450b193b80f",
   "metadata": {},
   "outputs": [
    {
     "data": {
      "text/html": [
       "<div>\n",
       "<style scoped>\n",
       "    .dataframe tbody tr th:only-of-type {\n",
       "        vertical-align: middle;\n",
       "    }\n",
       "\n",
       "    .dataframe tbody tr th {\n",
       "        vertical-align: top;\n",
       "    }\n",
       "\n",
       "    .dataframe thead th {\n",
       "        text-align: right;\n",
       "    }\n",
       "</style>\n",
       "<table border=\"1\" class=\"dataframe\">\n",
       "  <thead>\n",
       "    <tr style=\"text-align: right;\">\n",
       "      <th></th>\n",
       "      <th>weeks</th>\n",
       "      <th>sales</th>\n",
       "      <th>lost_sales</th>\n",
       "      <th>storage_days</th>\n",
       "      <th>max_stock</th>\n",
       "    </tr>\n",
       "  </thead>\n",
       "  <tbody>\n",
       "    <tr>\n",
       "      <th>0</th>\n",
       "      <td>104.0</td>\n",
       "      <td>59</td>\n",
       "      <td>44</td>\n",
       "      <td>374</td>\n",
       "      <td>1</td>\n",
       "    </tr>\n",
       "    <tr>\n",
       "      <th>1</th>\n",
       "      <td>104.0</td>\n",
       "      <td>55</td>\n",
       "      <td>39</td>\n",
       "      <td>401</td>\n",
       "      <td>1</td>\n",
       "    </tr>\n",
       "    <tr>\n",
       "      <th>2</th>\n",
       "      <td>104.0</td>\n",
       "      <td>66</td>\n",
       "      <td>47</td>\n",
       "      <td>332</td>\n",
       "      <td>1</td>\n",
       "    </tr>\n",
       "    <tr>\n",
       "      <th>3</th>\n",
       "      <td>104.0</td>\n",
       "      <td>56</td>\n",
       "      <td>38</td>\n",
       "      <td>392</td>\n",
       "      <td>1</td>\n",
       "    </tr>\n",
       "    <tr>\n",
       "      <th>4</th>\n",
       "      <td>104.0</td>\n",
       "      <td>60</td>\n",
       "      <td>49</td>\n",
       "      <td>370</td>\n",
       "      <td>1</td>\n",
       "    </tr>\n",
       "    <tr>\n",
       "      <th>5</th>\n",
       "      <td>104.0</td>\n",
       "      <td>64</td>\n",
       "      <td>44</td>\n",
       "      <td>344</td>\n",
       "      <td>1</td>\n",
       "    </tr>\n",
       "    <tr>\n",
       "      <th>6</th>\n",
       "      <td>104.0</td>\n",
       "      <td>62</td>\n",
       "      <td>42</td>\n",
       "      <td>356</td>\n",
       "      <td>1</td>\n",
       "    </tr>\n",
       "    <tr>\n",
       "      <th>7</th>\n",
       "      <td>104.0</td>\n",
       "      <td>51</td>\n",
       "      <td>40</td>\n",
       "      <td>422</td>\n",
       "      <td>1</td>\n",
       "    </tr>\n",
       "    <tr>\n",
       "      <th>8</th>\n",
       "      <td>104.0</td>\n",
       "      <td>58</td>\n",
       "      <td>39</td>\n",
       "      <td>380</td>\n",
       "      <td>1</td>\n",
       "    </tr>\n",
       "    <tr>\n",
       "      <th>9</th>\n",
       "      <td>104.0</td>\n",
       "      <td>58</td>\n",
       "      <td>51</td>\n",
       "      <td>380</td>\n",
       "      <td>1</td>\n",
       "    </tr>\n",
       "  </tbody>\n",
       "</table>\n",
       "</div>"
      ],
      "text/plain": [
       "   weeks  sales  lost_sales  storage_days  max_stock\n",
       "0  104.0     59          44           374          1\n",
       "1  104.0     55          39           401          1\n",
       "2  104.0     66          47           332          1\n",
       "3  104.0     56          38           392          1\n",
       "4  104.0     60          49           370          1\n",
       "5  104.0     64          44           344          1\n",
       "6  104.0     62          42           356          1\n",
       "7  104.0     51          40           422          1\n",
       "8  104.0     58          39           380          1\n",
       "9  104.0     58          51           380          1"
      ]
     },
     "execution_count": 75,
     "metadata": {},
     "output_type": "execute_result"
    }
   ],
   "source": [
    "const_demand_results"
   ]
  },
  {
   "cell_type": "code",
   "execution_count": 76,
   "id": "e93093a9-2db3-4902-8406-b78d895889d7",
   "metadata": {},
   "outputs": [
    {
     "data": {
      "text/plain": [
       "weeks            104.0\n",
       "sales             97.3\n",
       "lost_sales         4.9\n",
       "storage_days    3447.4\n",
       "max_stock         10.7\n",
       "dtype: float64"
      ]
     },
     "execution_count": 76,
     "metadata": {},
     "output_type": "execute_result"
    }
   ],
   "source": [
    "const_stand_results.mean()\n"
   ]
  },
  {
   "cell_type": "code",
   "execution_count": 77,
   "id": "a25a9877-07e3-4ae6-bb1f-7f100cfdc4fa",
   "metadata": {},
   "outputs": [
    {
     "data": {
      "text/plain": [
       "weeks           104.0\n",
       "sales            58.9\n",
       "lost_sales       43.3\n",
       "storage_days    375.1\n",
       "max_stock         1.0\n",
       "dtype: float64"
      ]
     },
     "execution_count": 77,
     "metadata": {},
     "output_type": "execute_result"
    }
   ],
   "source": [
    "const_demand_results.mean()"
   ]
  },
  {
   "cell_type": "code",
   "execution_count": 78,
   "id": "12ab461f-8875-4af1-8e45-9edbb146adf7",
   "metadata": {},
   "outputs": [
    {
     "data": {
      "text/plain": [
       "35.5360824742268"
      ]
     },
     "execution_count": 78,
     "metadata": {},
     "output_type": "execute_result"
    }
   ],
   "source": [
    "3447/97"
   ]
  },
  {
   "cell_type": "code",
   "execution_count": 79,
   "id": "987da637-b545-4368-9f5f-2dc7549298cc",
   "metadata": {},
   "outputs": [
    {
     "data": {
      "text/plain": [
       "6.4655172413793105"
      ]
     },
     "execution_count": 79,
     "metadata": {},
     "output_type": "execute_result"
    }
   ],
   "source": [
    "375/58"
   ]
  },
  {
   "cell_type": "code",
   "execution_count": 87,
   "id": "da4b740a-2d53-4022-a4ff-8ebe910579b6",
   "metadata": {},
   "outputs": [
    {
     "data": {
      "text/plain": [
       "35.430626927029806"
      ]
     },
     "execution_count": 87,
     "metadata": {},
     "output_type": "execute_result"
    }
   ],
   "source": [
    "def required_profit(results):\n",
    "  # we'll take the pandas DataFrame as argument\n",
    "\t \n",
    "  means = results.mean()\n",
    "  return means[\"storage_days\"]/means[\"sales\"]\n",
    "\n",
    "required_profit(const_stand_results)"
   ]
  },
  {
   "cell_type": "code",
   "execution_count": 88,
   "id": "57d62818-7b52-4ae2-a18a-41977cffd57f",
   "metadata": {},
   "outputs": [
    {
     "data": {
      "text/plain": [
       "6.36842105263158"
      ]
     },
     "execution_count": 88,
     "metadata": {},
     "output_type": "execute_result"
    }
   ],
   "source": [
    "required_profit(const_demand_results)"
   ]
  },
  {
   "cell_type": "code",
   "execution_count": 82,
   "id": "f6adac46-da36-41e2-afbd-ff5364a6d7cd",
   "metadata": {},
   "outputs": [
    {
     "data": {
      "text/plain": [
       "weeks            26.00\n",
       "sales            22.45\n",
       "lost_sales        2.80\n",
       "storage_days    498.95\n",
       "max_stock         6.15\n",
       "dtype: float64"
      ]
     },
     "execution_count": 82,
     "metadata": {},
     "output_type": "execute_result"
    }
   ],
   "source": [
    "six_month_ten_trials = make_trials(const_probs,trial_weeks=26,num_trials=20)\n",
    "\n",
    "six_month_stand_results = report_trials(stand_order,six_month_ten_trials)\n",
    "six_month_demand_results = report_trials(order_on_demand,six_month_ten_trials)\n",
    "\n",
    "six_month_stand_results.mean()"
   ]
  },
  {
   "cell_type": "code",
   "execution_count": 84,
   "id": "c05b6468-a5f7-48e0-be1e-a83a6eeb5775",
   "metadata": {},
   "outputs": [
    {
     "data": {
      "text/plain": [
       "26.0"
      ]
     },
     "execution_count": 84,
     "metadata": {},
     "output_type": "execute_result"
    }
   ],
   "source": [
    "six_month_demand_results.mean()"
   ]
  },
  {
   "cell_type": "code",
   "execution_count": 89,
   "id": "28b3c914-54ac-4c70-979e-3d89b3cfd397",
   "metadata": {},
   "outputs": [
    {
     "data": {
      "text/plain": [
       "22.224944320712694"
      ]
     },
     "execution_count": 89,
     "metadata": {},
     "output_type": "execute_result"
    }
   ],
   "source": [
    "required_profit(six_month_stand_results)"
   ]
  },
  {
   "cell_type": "code",
   "execution_count": 90,
   "id": "08f02525-0ce2-4858-b4ff-74b6bd6d9f8f",
   "metadata": {},
   "outputs": [
    {
     "data": {
      "text/plain": [
       "6.239202657807309"
      ]
     },
     "execution_count": 90,
     "metadata": {},
     "output_type": "execute_result"
    }
   ],
   "source": [
    "required_profit(six_month_demand_results)"
   ]
  },
  {
   "cell_type": "code",
   "execution_count": null,
   "id": "fbeac4ad-cb1e-4374-9f59-c4f88a6fd29f",
   "metadata": {},
   "outputs": [],
   "source": []
  }
 ],
 "metadata": {
  "kernelspec": {
   "display_name": "Python 3 (ipykernel)",
   "language": "python",
   "name": "python3"
  },
  "language_info": {
   "codemirror_mode": {
    "name": "ipython",
    "version": 3
   },
   "file_extension": ".py",
   "mimetype": "text/x-python",
   "name": "python",
   "nbconvert_exporter": "python",
   "pygments_lexer": "ipython3",
   "version": "3.11.6"
  }
 },
 "nbformat": 4,
 "nbformat_minor": 5
}
