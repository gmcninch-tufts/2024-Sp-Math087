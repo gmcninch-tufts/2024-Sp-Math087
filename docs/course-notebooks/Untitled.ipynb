{
 "cells": [
  {
   "cell_type": "code",
   "execution_count": 1,
   "id": "d5c8e2ba-17af-4fd6-ac39-5897846c92cb",
   "metadata": {},
   "outputs": [],
   "source": [
    "import numpy as np\n",
    "from scipy.optimize import newton"
   ]
  },
  {
   "cell_type": "code",
   "execution_count": 4,
   "id": "2d59095d-e7e2-406c-adb4-370c67d8b768",
   "metadata": {},
   "outputs": [],
   "source": [
    "def f(x): return 1/x - 4287"
   ]
  },
  {
   "cell_type": "code",
   "execution_count": 11,
   "id": "c0b7e7e0-c00d-453a-a1cd-fa897160404f",
   "metadata": {},
   "outputs": [],
   "source": [
    "def df(x): return -1/(x**2)"
   ]
  },
  {
   "cell_type": "code",
   "execution_count": 15,
   "id": "38842c0d-b0bd-47b3-9eab-605b451dd93e",
   "metadata": {},
   "outputs": [
    {
     "name": "stderr",
     "output_type": "stream",
     "text": [
      "/tmp/ipykernel_406572/538223209.py:1: RuntimeWarning: divide by zero encountered in scalar divide\n",
      "  def f(x): return 1/x - 4287\n",
      "/home/george/miniforge3/lib/python3.11/site-packages/scipy/optimize/_zeros_py.py:321: RuntimeWarning: invalid value encountered in scalar divide\n",
      "  newton_step = fval / fder\n"
     ]
    },
    {
     "ename": "RuntimeError",
     "evalue": "Failed to converge after 50 iterations, value is nan.",
     "output_type": "error",
     "traceback": [
      "\u001b[0;31m---------------------------------------------------------------------------\u001b[0m",
      "\u001b[0;31mRuntimeError\u001b[0m                              Traceback (most recent call last)",
      "Cell \u001b[0;32mIn[15], line 1\u001b[0m\n\u001b[0;32m----> 1\u001b[0m \u001b[43mnewton\u001b[49m\u001b[43m(\u001b[49m\u001b[43mf\u001b[49m\u001b[43m,\u001b[49m\u001b[38;5;241;43m0\u001b[39;49m\u001b[43m,\u001b[49m\u001b[43mfprime\u001b[49m\u001b[38;5;241;43m=\u001b[39;49m\u001b[43mdf\u001b[49m\u001b[43m)\u001b[49m\n",
      "File \u001b[0;32m~/miniforge3/lib/python3.11/site-packages/scipy/optimize/_zeros_py.py:384\u001b[0m, in \u001b[0;36mnewton\u001b[0;34m(func, x0, fprime, args, tol, maxiter, fprime2, x1, rtol, full_output, disp)\u001b[0m\n\u001b[1;32m    381\u001b[0m \u001b[38;5;28;01mif\u001b[39;00m disp:\n\u001b[1;32m    382\u001b[0m     msg \u001b[38;5;241m=\u001b[39m (\u001b[38;5;124m\"\u001b[39m\u001b[38;5;124mFailed to converge after \u001b[39m\u001b[38;5;132;01m%d\u001b[39;00m\u001b[38;5;124m iterations, value is \u001b[39m\u001b[38;5;132;01m%s\u001b[39;00m\u001b[38;5;124m.\u001b[39m\u001b[38;5;124m\"\u001b[39m\n\u001b[1;32m    383\u001b[0m            \u001b[38;5;241m%\u001b[39m (itr \u001b[38;5;241m+\u001b[39m \u001b[38;5;241m1\u001b[39m, p))\n\u001b[0;32m--> 384\u001b[0m     \u001b[38;5;28;01mraise\u001b[39;00m \u001b[38;5;167;01mRuntimeError\u001b[39;00m(msg)\n\u001b[1;32m    386\u001b[0m \u001b[38;5;28;01mreturn\u001b[39;00m _results_select(full_output, (p, funcalls, itr \u001b[38;5;241m+\u001b[39m \u001b[38;5;241m1\u001b[39m, _ECONVERR))\n",
      "\u001b[0;31mRuntimeError\u001b[0m: Failed to converge after 50 iterations, value is nan."
     ]
    }
   ],
   "source": [
    "newton(f,0,fprime=df)"
   ]
  },
  {
   "cell_type": "code",
   "execution_count": 6,
   "id": "ea7ca776-217f-4fe4-b68c-f93017b5d326",
   "metadata": {},
   "outputs": [],
   "source": [
    "def g(x): return 1 - 4287*x"
   ]
  },
  {
   "cell_type": "code",
   "execution_count": 8,
   "id": "8e26e3b2-2062-4f26-a455-91e6645d766d",
   "metadata": {},
   "outputs": [],
   "source": [
    "def dg(x): return -4287"
   ]
  },
  {
   "cell_type": "code",
   "execution_count": 9,
   "id": "18b27a34-e857-47f7-ab45-e0229436e99d",
   "metadata": {},
   "outputs": [
    {
     "data": {
      "text/plain": [
       "0.0002332633543270352"
      ]
     },
     "execution_count": 9,
     "metadata": {},
     "output_type": "execute_result"
    }
   ],
   "source": [
    "newton(g,1,fprime=dg)"
   ]
  },
  {
   "cell_type": "code",
   "execution_count": 10,
   "id": "95fce6d9-4483-417a-8eca-e596c737eef4",
   "metadata": {},
   "outputs": [
    {
     "data": {
      "text/plain": [
       "0.00023326335432703523"
      ]
     },
     "execution_count": 10,
     "metadata": {},
     "output_type": "execute_result"
    }
   ],
   "source": [
    "1/4287"
   ]
  },
  {
   "cell_type": "code",
   "execution_count": null,
   "id": "5d34d091-f43d-4ea8-8d61-f8113cc59776",
   "metadata": {},
   "outputs": [],
   "source": []
  }
 ],
 "metadata": {
  "kernelspec": {
   "display_name": "Python 3 (ipykernel)",
   "language": "python",
   "name": "python3"
  },
  "language_info": {
   "codemirror_mode": {
    "name": "ipython",
    "version": 3
   },
   "file_extension": ".py",
   "mimetype": "text/x-python",
   "name": "python",
   "nbconvert_exporter": "python",
   "pygments_lexer": "ipython3",
   "version": "3.11.6"
  }
 },
 "nbformat": 4,
 "nbformat_minor": 5
}
