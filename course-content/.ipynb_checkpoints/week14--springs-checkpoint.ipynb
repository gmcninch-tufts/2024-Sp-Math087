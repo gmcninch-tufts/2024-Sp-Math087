{
 "cells": [
  {
   "cell_type": "markdown",
   "id": "f0957a50-ab2c-47ab-a7f6-8534b32d977b",
   "metadata": {},
   "source": [
    "# [George McNinch](http://gmcninch.math.tufts.edu) Math 87 - Spring 2024\n",
    "\n",
    "# Week 13\n",
    "\n",
    "# Spring networks\n"
   ]
  },
  {
   "cell_type": "markdown",
   "id": "e6ad6634-1979-4b55-b489-a9148032b90b",
   "metadata": {},
   "source": [
    "# Modeling spring networks\n",
    "\n",
    "Examples of \"Structural modeling\" that will ultimately involve *least squares* approximation."
   ]
  },
  {
   "cell_type": "markdown",
   "id": "cd650be2-9424-4a03-a867-62bd5f679774",
   "metadata": {},
   "source": [
    "## One-dimensional models"
   ]
  },
  {
   "cell_type": "markdown",
   "id": "156e0f44-932e-4d45-b065-2d1f9e98960a",
   "metadata": {},
   "source": [
    "Let's consider a linear network of 3 springs and 2 masses:\n",
    "\n",
    "![](../course-assets/images/springs--image01.png)\n",
    "\n",
    "Here are the variables:\n",
    "\n",
    "- $f_j$ = applied load or force to mass (in `N` = `Newtons`), for $j=1,2$\n",
    "- $k_i$ = spring constant (in `N/m` = `Newtons per meter`), for $i=1,2,3$ \n",
    "- $e_i$ = elongation of spring $i$ from equilibrium (in `m` = `meters`)\n",
    "- $x_j$ = displasement of mass $j$ from equilibrium (in `m` = `meters`)\n",
    "- $y_i$ = restoring force on spring $i$ (in `N` = `Newtons`)\n",
    "\n",
    "The *\"inputs\"* are the applied forces $f_j$ which cause the masses to move, resulting in elongation of springs.\n",
    "\n",
    "We'll take \"movement to the right\" to be *positive*, and a stretch as *positive* elongation.\n",
    "\n",
    "Thus we have the equations:\n",
    "$$e_1 = x_1, \\quad e_2 = x_2 - x_1, \\quad e_3 = -x_2.$$\n",
    "\n",
    "(This third equation reflects the fact that spring 3 compresses when $m_2$ moves to the right.)\n",
    "\n",
    "Let's put this in matrix form:\n",
    "\n",
    "$$\\mathbf{e} = \\begin{bmatrix} e_1 \\\\ e_2 \\\\ e_3 \\end{bmatrix} =\n",
    "\\begin{bmatrix} 1 & 0 \\\\ -1 & 1 \\\\ 0 & -1 \\end{bmatrix} \\begin{bmatrix} x_1 \\\\ x_2 \\end{bmatrix}\n",
    "= B \\mathbf{x}.$$\n",
    "\n",
    "Now, let's recall that according to [Hooke's Law](https://en.wikipedia.org/wiki/Hooke's_law),\n",
    "the elongation of the spring causes a restoring force on the mass, determined by the *spring constant* $k_i>0$. Thus we get equations\n",
    "\n",
    "$$y_j = k_j e_j \\quad \\text{for $j = 1,2,3$}.$$\n",
    "\n",
    "In matrix form, these equations read:\n",
    "\n",
    "$$\\mathbf{y} = \\begin{bmatrix} y_1 \\\\ y_2 \\\\ y_3 \\end{bmatrix}\n",
    "= \\begin{bmatrix}  k_1 & 0 & 0 \\\\ 0 & k_2 & 0 \\\\ 0 & 0 & k_3 \\end{bmatrix}\n",
    "\\begin{bmatrix} e_1 \\\\ e_2 \\\\ e_3 \\end{bmatrix} = K\\mathbf{e}.$$\n",
    "\n",
    "*Combining* these euqations gives\n",
    "$$\\mathbf{y} = K \\mathbf{e} = K B \\mathbf{x}.$$"
   ]
  },
  {
   "cell_type": "code",
   "execution_count": 15,
   "id": "4e7818d8-5f23-49f9-ab20-39d6d53a4f2b",
   "metadata": {},
   "outputs": [
    {
     "data": {
      "text/plain": [
       "(array([[k1, 0, 0],\n",
       "        [0, k2, 0],\n",
       "        [0, 0, k3]], dtype=object),\n",
       " array([[ 1,  0],\n",
       "        [-1,  1],\n",
       "        [ 0, -1]]))"
      ]
     },
     "execution_count": 15,
     "metadata": {},
     "output_type": "execute_result"
    }
   ],
   "source": [
    "import numpy as np\n",
    "import numpy.linalg as la\n",
    "\n",
    "import sympy as sp\n",
    "\n",
    "def sbv(i,n):\n",
    "    return np.array([1 if j == i else 0 for j in range(n)])\n",
    "\n",
    "def makeK(kar):\n",
    "    n = len(kar)\n",
    "    return np.array([kar[i]*sbv(i,n) for i in range(n)])\n",
    "\n",
    "def makeB(m,n):\n",
    "    return np.array([(-1)*sbv(i-1,m) + sbv(i,m) for i in range(n)])\n",
    "\n",
    "k1, k2, k3 = sp.symbols('k1 k2 k3')\n",
    "\n",
    "K = makeK([k1,k2,k3])\n",
    "B = makeB(2,3)\n",
    "(K,B)"
   ]
  },
  {
   "cell_type": "markdown",
   "id": "eaf9c013-8ca0-4063-bd7f-5c2a1803605c",
   "metadata": {},
   "source": [
    "\n",
    "Next, we assume that the system is at rest after the loads are applied (i.e. the forces $f_i$).\n",
    "\n",
    "![](../course-assets/images/springs--image02.png)\n",
    "\n",
    "Looking at the diagram, we see that the following equations must hold:\n",
    "\n",
    "(The first diagram gives:)\n",
    "\\begin{align*}\n",
    "y_1 &= y_2 + f_1 \\implies\\\\\n",
    "y_1 - y_2 & = f_1 \n",
    "\\end{align*}\n",
    "\n",
    "(The second diagram gives:)\n",
    "\\begin{align*}\n",
    "y_2 &= y_3 + f_2 \\implies\\\\\n",
    "y_2 - y_3 &= f_2\n",
    "\\end{align*}\n",
    "\n",
    "In matrix form this reads\n",
    "$$\\begin{bmatrix}\n",
    "1 & -1 & 0 \\\\\n",
    "0 & 1 & -1\n",
    "\\end{bmatrix}\n",
    "\\begin{bmatrix} y_1 \\\\ y_2 \\\\ y_3 \\end{bmatrix} =\n",
    "\\begin{bmatrix} f_1 \\\\ f_2 \\end{bmatrix},$$\n",
    "i.e.\n",
    "$$B^T \\mathbf{y} = \\mathbf{f}$$\n",
    "\n",
    "Combined with our earlier equation\n",
    "$$\\mathbf{y} = K \\mathbf{e} = K B \\mathbf{x}$$\n",
    "we now see\n",
    "$$B^T K B \\mathbf{x} = \\mathbf{f}.$$"
   ]
  },
  {
   "cell_type": "code",
   "execution_count": 2,
   "id": "cbf2342a-8004-4230-8b32-a424b7e7d2ae",
   "metadata": {},
   "outputs": [
    {
     "data": {
      "text/plain": [
       "array([[k1 + k2, -k2],\n",
       "       [-k2, k2 + k3]], dtype=object)"
      ]
     },
     "execution_count": 2,
     "metadata": {},
     "output_type": "execute_result"
    }
   ],
   "source": [
    "A=B.transpose() @ K @ B \n",
    "A"
   ]
  },
  {
   "cell_type": "markdown",
   "id": "7ae9ba92-2a0a-4511-a6f4-1fa986b65f6c",
   "metadata": {},
   "source": [
    "Thus we have\n",
    "$$A = B^T K B = \\begin{bmatrix} k_1 + k_2 & -k_2 \\\\\n",
    "-k_2 & k_2 + k_3 \\end{bmatrix}.$$"
   ]
  },
  {
   "cell_type": "code",
   "execution_count": 16,
   "id": "c3a5a1d4-5274-4f18-9407-4de8773638d1",
   "metadata": {},
   "outputs": [
    {
     "data": {
      "text/plain": [
       "array([ 1., -1.])"
      ]
     },
     "execution_count": 16,
     "metadata": {},
     "output_type": "execute_result"
    }
   ],
   "source": [
    "def findDisplacements(kar,far):\n",
    "    # kar = array of spring constants\n",
    "    # far = array of initial forces.\n",
    "    m = len(far)\n",
    "    n = len(kar)\n",
    "    B = makeB(m,n)\n",
    "    K = makeK(kar)\n",
    "    A = B.transpose() @ K @ B\n",
    "    f = np.array(far)\n",
    "    return la.solve(A,f)\n",
    "\n",
    "# Let's find the displacements for spring constants `k = [1,1,1]`\n",
    "# and forces `f = [3,-3]`\n",
    "\n",
    "findDisplacements([1,1,1],[3,-3])"
   ]
  },
  {
   "cell_type": "code",
   "execution_count": 4,
   "id": "30dcc4c2-baf9-41ac-809d-913799f7b626",
   "metadata": {},
   "outputs": [
    {
     "data": {
      "text/plain": [
       "array([ 1.33333333, -0.33333333])"
      ]
     },
     "execution_count": 4,
     "metadata": {},
     "output_type": "execute_result"
    }
   ],
   "source": [
    "findDisplacements([1,1,1],[3,-2])"
   ]
  },
  {
   "cell_type": "markdown",
   "id": "6276e068-9a4c-42d3-886d-075dbe4528b0",
   "metadata": {},
   "source": [
    "## Two dimensional models"
   ]
  },
  {
   "cell_type": "markdown",
   "id": "ffcf9485-674a-426f-96cc-fdc9c1a59cc2",
   "metadata": {},
   "source": [
    "Now let's allow the mass to move in two dimensions:\n",
    "\n",
    "![](../course-assets/images/springs--image03.png)\n",
    "\n",
    "We see in this case that the elongation $e$ satisfies\n",
    "\n",
    "$$e = \\sqrt{x_1^2 + (L + x_2)^2} - L$$\n",
    "\n",
    "Since this does not express a linear relationship between $e$ and the displacements\n",
    "$x_1,x_2$, we can't express this relationship using a matrix.\n",
    "\n",
    "But we can *linearize*. Recall that the linearization (first-order Taylor polynomial) about\n",
    "$t=0$ of the function $y = \\sqrt{1+t}$ is given by\n",
    "$$(\\clubsuit) \\quad \\sqrt{1+t} \\approx 1 + \\dfrac{t}{2} + O(t^2).$$\n",
    "\n",
    "Let's use this linearization to rewrite the expression for $e$ given above.\n",
    "\n",
    "We first rewrite\n",
    "\\begin{align*}\n",
    "x_1^2 + (L+ x_2)^2 &= x_1^2 + L^2 + 2Lx_2 + x_2^2 \\\\\n",
    "&= L^2\\left( \\dfrac{x_1^2}{L^2} + 1 + \\dfrac{2x_2}{L} + \\dfrac{x_2^2}{L^2} \\right) \\\\\n",
    "&= L^2\\left( 1 + \\dfrac{2x_2}{L} + \\dfrac{x_1^2}{L^2} + \\dfrac{x_2^2}{L^2} \\right) \n",
    "\\end{align*}\n",
    "so that\n",
    "\\begin{align*}\n",
    "e &= \\sqrt{x_1^2 + (L + x_2)^2} - L \\\\\n",
    "&= \\sqrt{L^2\\left( 1 + \\dfrac{2x_2}{L} + \\dfrac{x_1^2}{L^2} + \\dfrac{x_2^2}{L^2} \\right)} -L \\\\\n",
    "&= L\\sqrt{1 + \\dfrac{2x_2}{L} + \\dfrac{x_1^2}{L^2} + \\dfrac{x_2^2}{L^2}} -L\n",
    "\\end{align*}\n",
    "\n",
    "Now taking $t = \\dfrac{2x_2}{L} + \\dfrac{x_1^2}{L^2} + \\dfrac{x_2^2}{L^2}$ the approximation\n",
    "$(\\clubsuit)$ gives\n",
    "\\begin{align*}\n",
    "e &\\approx L\\left(1 + \\dfrac{1}{2}t\\right) - L \\\\\n",
    "&= L \\left(1 + \\dfrac{1}{2}\\dfrac{2x_2}{L} + \\dfrac{x_1^2}{L^2} + \\dfrac{x_2^2}{L^2}\\right) -L \\\\\n",
    "&= x_2 + \\dfrac{x_1^2 + x_2^2}{2L}\n",
    "\\end{align*}\n",
    "\n",
    "Now, this is of course still not a linear relationship between $e$ and $x_1,x_2$. Note that the approximation $(\\clubsuit)$ depends on the assumption that $t = \\dfrac{2x_2}{L} + \\dfrac{x_1^2}{L^2} + \\dfrac{x_2^2}{L^2} \\approx 0$.\n",
    "\n",
    "If we suppose that the displacements $x_1,x_2$ are small compared to the resting length $L$ of the spring, then $x_1^2 + x_2^2$ is even smaller compared to $L$, so making one more approximation, we eliminate the quadratic term and so we get\n",
    "$$e \\approx x_2.$$\n",
    "\n",
    "**Remark**\n",
    ":   The approximation $e \\approx x_2$ is equivalent to a [small-angle approximation](https://en.wikipedia.org/wiki/Small-angle_approximation). \n",
    "    It essentially says that the horizontal displacements are negligible in the elongation, but vertical displacements are important.\n",
    "\n",
    "**Remark**\n",
    ":   This assumption is of course **\"wrong\"**, but can still be useful. Especially, it is now *linear*"
   ]
  },
  {
   "cell_type": "markdown",
   "id": "965a5bbd-e22c-4348-b41b-621d7b48451f",
   "metadata": {},
   "source": [
    "## Spring networks"
   ]
  },
  {
   "cell_type": "markdown",
   "id": "5a84427e-1c50-471a-b4c3-46d79cb26ada",
   "metadata": {},
   "source": [
    "Let's consider a  network of springs in the two-dimensional setting.\n",
    "\n",
    "![](../course-assets/images/springs--image04.png)\n",
    "\n",
    "The *linearization* discussed in the previous section says that the elongation\n",
    "is determined by the displacement in the \"1 dimensional direction of the spring\".\n",
    "\n",
    "We get the matrix equation\n",
    "\n",
    "$$\\mathbf{e} = \\begin{bmatrix} 0 & 1 & 0 & 0 \\\\ -1 & 0 & 1 & 0 \\\\\n",
    "0 & 0 & 0 & 1 \\end{bmatrix}\n",
    "\\begin{bmatrix} x_1 \\\\ x_2 \\\\ x_3 \\\\ x_4 \\end{bmatrix} = B \\mathbf{x}.$$\n",
    "\n",
    "i.e. $$B = \\begin{bmatrix} 0 & 1 & 0 & 0 \\\\ -1 & 0 & 1 & 0 \\\\\n",
    "0 & 0 & 0 & 1 \\end{bmatrix}$$\n",
    "\n",
    "As before, Hooke's Law gives\n",
    "\n",
    "$$\\mathbf{y} = \\begin{bmatrix} y_1 \\\\ y_2 \\\\ y_3 \\end{bmatrix}\n",
    "= \\begin{bmatrix}  k_1 & 0 & 0 \\\\ 0 & k_2 & 0 \\\\ 0 & 0 & k_3 \\end{bmatrix}\n",
    "\\begin{bmatrix} e_1 \\\\ e_2 \\\\ e_3 \\end{bmatrix} = K\\mathbf{e}.$$\n"
   ]
  },
  {
   "cell_type": "markdown",
   "id": "85cc643e-d57f-4b0d-b3bc-cdd9e7c48179",
   "metadata": {},
   "source": [
    "We see again that the equations to balance the forces come from the transposed matrix $B^T$:\n",
    "\n",
    "![](../course-assets/images/springs--image05.png)\n",
    "\n",
    "This gives\n",
    "\n",
    "$$\\begin{bmatrix} 0 & -1 & 0 \\\\\n",
    " 1 & 0 & 0 \\\\\n",
    " 0 & 1 & 0 \\\\\n",
    " 0 & 0 & 1 \\end{bmatrix} \\mathbf{y} = B^T \\mathbf{y}  = \\mathbf{f}.$$\n",
    "\n",
    "Thus\n",
    "$$B^T K B \\mathbf{x} = \\mathbf{f}.$$"
   ]
  },
  {
   "cell_type": "code",
   "execution_count": 73,
   "id": "5a3f2442-4229-48b6-9ea0-f76e2b307a4e",
   "metadata": {},
   "outputs": [
    {
     "name": "stdout",
     "output_type": "stream",
     "text": [
      "the matrix B^T K B = \n",
      "\n",
      "[[ 1  0 -1  0]\n",
      " [ 0  1  0  0]\n",
      " [-1  0  1  0]\n",
      " [ 0  0  0  1]]\n",
      "\n",
      " is singular\n"
     ]
    }
   ],
   "source": [
    "B = np.array([[0,1,0,0],[-1,0,1,0],[0,0,0,1]])\n",
    "\n",
    "K=makeK([1,1,1])           ## springs of equal strength\n",
    "f = np.array([0,1,0,1])    ## downward forces only \n",
    "\n",
    "A = B.transpose() @ K @ B\n",
    "\n",
    "try:\n",
    "   la.solve(A , f) \n",
    "except:\n",
    "   print(f\"the matrix B^T K B = \\n\\n{A}\\n\\n is singular\")"
   ]
  },
  {
   "cell_type": "code",
   "execution_count": 69,
   "id": "e3e0e225-5e42-4557-b7e0-97be5996f027",
   "metadata": {},
   "outputs": [
    {
     "data": {
      "text/plain": [
       "3"
      ]
     },
     "execution_count": 69,
     "metadata": {},
     "output_type": "execute_result"
    }
   ],
   "source": [
    "# numpy confirms that the null space has dimension 1\n",
    "\n",
    "la.matrix_rank(A)"
   ]
  },
  {
   "cell_type": "code",
   "execution_count": 74,
   "id": "29ae9ac6-b1f5-4dba-a9d8-34a36f7aebda",
   "metadata": {},
   "outputs": [
    {
     "data": {
      "text/plain": [
       "array([[-1.41421356,  0.        ,  0.        ,  0.        ],\n",
       "       [ 0.        ,  1.        ,  0.        ,  0.        ],\n",
       "       [ 1.41421356,  0.        ,  0.        ,  0.        ],\n",
       "       [ 0.        ,  0.        ,  1.        ,  0.        ]])"
      ]
     },
     "execution_count": 74,
     "metadata": {},
     "output_type": "execute_result"
    }
   ],
   "source": [
    "# so we just need to find a non-zero vector in the null space\n",
    "\n",
    "# now, the Null space of A can be obtained from the *singular value decomposition* of A.\n",
    "\n",
    "# la.svd(A) returns a tuple ( U , S, Vh )\n",
    "# where e.g. U is a unitary matrix\n",
    "\n",
    "U,S,Vh = la.svd(A)\n",
    "\n",
    "# notice that the last column of U is in the null space:\n",
    "\n",
    "A@U"
   ]
  },
  {
   "cell_type": "code",
   "execution_count": 75,
   "id": "3434f9bd-7f4e-4a66-b31a-bd2f87faee5c",
   "metadata": {},
   "outputs": [
    {
     "data": {
      "text/plain": [
       "array([0., 0., 0., 0.])"
      ]
     },
     "execution_count": 75,
     "metadata": {},
     "output_type": "execute_result"
    }
   ],
   "source": [
    "nullA = U[:,3]\n",
    "A @ nullA"
   ]
  },
  {
   "cell_type": "code",
   "execution_count": 76,
   "id": "b3598f82-a35c-4cdb-929a-5f2e0a0f3463",
   "metadata": {},
   "outputs": [
    {
     "data": {
      "text/plain": [
       "(array([0., 1., 0., 1.]),\n",
       " array([0.70710678, 0.        , 0.70710678, 0.        ]))"
      ]
     },
     "execution_count": 76,
     "metadata": {},
     "output_type": "execute_result"
    }
   ],
   "source": [
    "# now we just need a solution to A @ x = f\n",
    "# let's use `lstsq` to get one\n",
    "\n",
    "x,_,_,_ = la.lstsq(A,f,rcond=None)\n",
    "(x,nullA)"
   ]
  },
  {
   "cell_type": "markdown",
   "id": "445807e2-c1bf-42fa-819c-6e0debf3bda5",
   "metadata": {},
   "source": [
    "Thus we see that the general solution to $$A \\mathbf{x} = \\mathbf{f}$$ is given by\n",
    "$$x = \\begin{bmatrix} 0 \\\\ 1 \\\\ 0 \\\\ 1 \\end{bmatrix} + t \\begin{bmatrix} 1 \\\\ 0 \\\\ 1 \\\\ 0 \\end{bmatrix} = \\begin{bmatrix} t \\\\ 1 \\\\ t \\\\ 1 \\end{bmatrix}.$$"
   ]
  },
  {
   "cell_type": "markdown",
   "id": "d65ce063-f559-4e31-a6d1-e654ee737941",
   "metadata": {},
   "source": [
    "What is the physical meaning of the solutions given by the null space of $A$? i.e. the solutions\n",
    "$$t\\mathbf{x}_n = t \\begin{bmatrix} 1 \\\\ 0 \\\\ 1 \\\\ 0 \\end{bmatrix}$$\n",
    "\n",
    "Well, since $A \\mathbf{x}_n = \\mathbf{0}$, we see that a non-zero displacement can result from application of *zero force* (!).\n",
    "\n",
    "This is clearly \"wrong\", and is a consequence of our linearization, **but** \n",
    "these displacement are referred to as *unstable modes*, and they do correspond to some real physical phenomena -- \n",
    "\n",
    "see e.g. [Tacoma bridge collapse (1940)](https://www.youtube.com/watch?v=XggxeuFDaDU)"
   ]
  },
  {
   "cell_type": "markdown",
   "id": "cf93edd8-6b18-445e-baf3-59506df8581d",
   "metadata": {},
   "source": [
    "# Stabilizing the unstable modes\n",
    "\n",
    "One way to try to stabilize the unstable modes is to add a diagonal spring:\n",
    "\n",
    "![](../course-assets/images/springs--image06.png)\n",
    "\n",
    "For the indicate angle $\\theta$, the elongation is given by\n",
    "$$e  = \\sqrt{(L\\cos(\\theta) + x_1)^2 + (L \\sin(\\theta) + x_2)^2}$$\n",
    "\n",
    "Now our linearization assumption gives\n",
    "$$e \\approx x_1 \\cos(\\theta) + x_2 \\sin(\\theta).$$\n",
    "\n",
    "Observe that under the linearization, the elongation is again in the \"spring direction\". \n",
    "\n",
    "Note e.g. if $\\theta = 0$ then $e = x_1$ and if $\\theta = \\dfrac{\\pi}{2}$ then $e = x_2$ (as before)."
   ]
  },
  {
   "cell_type": "markdown",
   "id": "06627643-b438-4b5c-b57f-47ccd14b8d42",
   "metadata": {},
   "source": [
    "Now return to our unstable network, and add a diagonal spring:\n",
    "\n",
    "![](../course-assets/images/springs--image07.png)\n",
    "\n",
    "The new parameter here is the elongation $e_4$.\n",
    "\n",
    "Now we see that \n",
    "$\\mathbf{e} = B \\mathbf{x}$ where\n",
    "$$B = \\begin{bmatrix} 0 & 1 & 0 & 0 \\\\\n",
    "-1 & 0 & 1 & 0 \\\\\n",
    "0 & 0 & 0 & 1 \\\\\n",
    "0 & 0 & \\cos(\\theta) & \\sin(\\theta) \n",
    "\\end{bmatrix}.$$"
   ]
  },
  {
   "cell_type": "markdown",
   "id": "c577ce56-65c6-48b0-8b61-07d33bdd26f0",
   "metadata": {},
   "source": [
    "Let's inspect the force balancing conditions:\n",
    "\n",
    "![](../course-assets/images/springs--image08.png)\n",
    "\n",
    "As before, we see that\n",
    "$$B^T \\mathbf{y} = \\mathbf{f}$$\n",
    "so that\n",
    "$$B^T K B \\mathbf{x} = \\mathbf{f}.$$"
   ]
  },
  {
   "cell_type": "code",
   "execution_count": 82,
   "id": "97a7d632-c40f-448d-8776-195ff35e7659",
   "metadata": {},
   "outputs": [
    {
     "data": {
      "text/plain": [
       "4"
      ]
     },
     "execution_count": 82,
     "metadata": {},
     "output_type": "execute_result"
    }
   ],
   "source": [
    "# let's suppose theta = pi/3\n",
    "theta = np.pi/3\n",
    "BB = np.array([[0,1,0,0],[-1,0,1,0],[0,0,0,1],[0,0,np.cos(theta),np.sin(theta)]])\n",
    "\n",
    "K=makeK([1,1,1,1])           ## springs of equal strength\n",
    "f = np.array([0,1,0,1])    ## downward forces only \n",
    "\n",
    "AA = BB.transpose() @ K @ BB\n",
    "\n",
    "## AA is non-singular!\n",
    "la.matrix_rank(AA)"
   ]
  },
  {
   "cell_type": "markdown",
   "id": "4edab83e-a13a-4852-a6ec-5bafd20f9be2",
   "metadata": {},
   "source": [
    "So there are no *unstable modes* for this system. Non-zero displacements $\\mathbf{x}$ are only determined by non-zero force vectors $\\mathbf{f}$."
   ]
  },
  {
   "cell_type": "markdown",
   "id": "b0af2cd8-398d-4a49-a32e-0290fc2ae85e",
   "metadata": {},
   "source": [
    "# Least squares and bridges\n",
    "\n",
    "Suppose we are building a bridge, which we'll view as a spring-system as before:\n",
    "\n",
    "![](../course-assets/images/springs--image09.png)\n",
    "\n",
    "For simplicity we are going to assume that all angles in the diagram are $\\pi/2$ or $\\pi/4$."
   ]
  },
  {
   "cell_type": "markdown",
   "id": "cf6bcfde-1c28-4576-84d3-95c353a42126",
   "metadata": {},
   "source": [
    "Using the same material for each “beam” of the bridge, the spring constants are inversely proportional to their length.\n",
    "\n",
    "There are 15 springs/beams in total, and we take them as follows:\n",
    "$$k_i = \\left \\{ \n",
    "\\begin{matrix}\n",
    "9.7500 · 10^6 \\operatorname{N/m} & \\text{for $i = 1, 2, 3, 4, 6, 9, 12, 14, 15$} \\\\ \n",
    "6.8943 · 10^6 \\operatorname{N/m} & \\text{for $i = 5, 7, 8, 10, 11, 13$}\n",
    "\\end{matrix}\n",
    "\\right .$$"
   ]
  },
  {
   "cell_type": "markdown",
   "id": "fd359c3f-f7cf-451e-bf05-c67c6994d163",
   "metadata": {},
   "source": [
    "In order to test the bridge for structural integrity, we load the three lower masses (where traffic\n",
    "would be) individually with forces of $2 · 10^6$ N, and measure the resulting displacements.\n",
    "\n",
    "**Remark**\n",
    ":   The average car in the US weighs about $4, 000$ lbs ($≈ 1, 814$ kg), which\n",
    "corresponds to $≈ 1.778 · 10^4$ N. \n",
    "The average semi-truck weighs about $80, 000$ lbs ($≈ 36,287$ kg),\n",
    "which corresponds to $≈ 3.556 · 10^5$ N."
   ]
  },
  {
   "cell_type": "code",
   "execution_count": 196,
   "id": "ff2681b4-18fb-4309-8463-743f6f16a72d",
   "metadata": {},
   "outputs": [
    {
     "data": {
      "text/plain": [
       "array([[ 1.        ,  0.        ,  0.        ,  0.        ,  0.        ,\n",
       "         0.        ,  0.        ,  0.        ,  0.        ,  0.        ,\n",
       "         0.        ,  0.        ],\n",
       "       [-1.        ,  0.        ,  1.        ,  0.        ,  0.        ,\n",
       "         0.        ,  0.        ,  0.        ,  0.        ,  0.        ,\n",
       "         0.        ,  0.        ],\n",
       "       [ 0.        ,  0.        , -1.        ,  0.        ,  1.        ,\n",
       "         0.        ,  0.        ,  0.        ,  0.        ,  0.        ,\n",
       "         0.        ,  0.        ],\n",
       "       [ 0.        ,  0.        ,  0.        ,  0.        ,  1.        ,\n",
       "         0.        ,  0.        ,  0.        ,  0.        ,  0.        ,\n",
       "         0.        ,  0.        ],\n",
       "       [ 0.        ,  0.        ,  0.        ,  0.        ,  0.        ,\n",
       "         0.        ,  0.70710678, -0.70710678,  0.        ,  0.        ,\n",
       "         0.        ,  0.        ],\n",
       "       [ 0.        ,  1.        ,  0.        ,  0.        ,  0.        ,\n",
       "         0.        ,  0.        , -1.        ,  0.        ,  0.        ,\n",
       "         0.        ,  0.        ],\n",
       "       [ 0.        ,  0.        ,  0.70710678,  0.70710678,  0.        ,\n",
       "         0.        , -0.70710678, -0.70710678,  0.        ,  0.        ,\n",
       "         0.        ,  0.        ],\n",
       "       [-0.70710678,  0.70710678,  0.        ,  0.        ,  0.        ,\n",
       "         0.        ,  0.        ,  0.        ,  0.70710678, -0.70710678,\n",
       "         0.        ,  0.        ],\n",
       "       [ 0.        ,  0.        ,  0.        ,  1.        ,  0.        ,\n",
       "         0.        ,  0.        ,  0.        ,  0.        , -1.        ,\n",
       "         0.        ,  0.        ],\n",
       "       [ 0.        ,  0.        ,  0.        ,  0.        ,  0.70710678,\n",
       "         0.70710678,  0.        ,  0.        , -0.70710678, -0.70710678,\n",
       "         0.        ,  0.        ],\n",
       "       [ 0.        ,  0.        , -0.70710678,  0.70710678,  0.        ,\n",
       "         0.        ,  0.        ,  0.        ,  0.        ,  0.        ,\n",
       "         0.70710678, -0.70710678],\n",
       "       [ 0.        ,  0.        ,  0.        ,  0.        ,  0.        ,\n",
       "         1.        ,  0.        ,  0.        ,  0.        ,  0.        ,\n",
       "         0.        , -1.        ],\n",
       "       [ 0.        ,  0.        ,  0.        ,  0.        ,  0.        ,\n",
       "         0.        ,  0.        ,  0.        ,  0.        ,  0.        ,\n",
       "        -0.70710678, -0.70710678],\n",
       "       [ 0.        ,  0.        ,  0.        ,  0.        ,  0.        ,\n",
       "         0.        , -1.        ,  0.        ,  1.        ,  0.        ,\n",
       "         0.        ,  0.        ],\n",
       "       [ 0.        ,  0.        ,  0.        ,  0.        ,  0.        ,\n",
       "         0.        ,  0.        ,  0.        , -1.        ,  0.        ,\n",
       "         1.        ,  0.        ]])"
      ]
     },
     "execution_count": 196,
     "metadata": {},
     "output_type": "execute_result"
    }
   ],
   "source": [
    "# The matrix B with Bx = e is given as follows:\n",
    "def sbv(i,n):\n",
    "    return np.array([1 if i == j else 0 for j in range(n)])\n",
    "\n",
    "def sbvarray(x,l):\n",
    "    return sbv(l.index(x),len(l))\n",
    "\n",
    "a = list(range(1,13))\n",
    "\n",
    "k = np.sqrt(2)/2\n",
    "\n",
    "B_bridge = np.array([ sbvarray(1,a),                                    # e1 = x1\n",
    "               sbvarray(3,a) - sbvarray(1,a),                    # e2 = x3 - x1\n",
    "               sbvarray(5,a) - sbvarray(3,a),                    # e3 = x5 - x3\n",
    "               sbvarray(5,a),                                    # e4 = x5\n",
    "               k*(sbvarray(7,a) - sbvarray(8,a)),                # e5 = k*x7 - k*x8\n",
    "               sbvarray(2,a) - sbvarray(8,a),                    # e6 = x2 - x8\n",
    "               k*(sbvarray(3,a) + sbvarray(4,a) \n",
    "                  - sbvarray(7,a) - sbvarray(8,a)),              # e7 = k*x3 + k*x4 - k*x7 - k*x8 \n",
    "               k*(-sbvarray(1,a) + sbvarray(2,a)\n",
    "                  + sbvarray(9,a) - sbvarray(10,a)),             # e8 = -k*x1 + k*x2 + k*x9 - k*x10\n",
    "               sbvarray(4,a) - sbvarray(10,a),                   # e9 = x4 - x10 \n",
    "               k*(sbvarray(5,a) + sbvarray(6,a) \n",
    "                  - sbvarray(9,a) - sbvarray(10,a)),             # e10 = k*x5 + k*x6 - k*x9 - k*x10\n",
    "               k*(-sbvarray(3,a) + sbvarray(4,a)\n",
    "                  + sbvarray(11,a) - sbvarray(12,a)),            # e11 = -k*e3 + k*e4 + k*e11 - k*e12\n",
    "               sbvarray(6,a) - sbvarray(12,a),                   # e12 = x6 - x12\n",
    "                  k*(-sbvarray(11,a) - sbvarray(12,a)),          # e13 = -k*x11 + -k*x12\n",
    "               -sbvarray(7,a) + sbvarray(9,a),                   # e14 = -x7 + x9\n",
    "               -sbvarray(9,a) + sbvarray(11,a)                   # e15 = -x9 + x11\n",
    "             ])\n",
    "B_bridge"
   ]
  },
  {
   "cell_type": "markdown",
   "id": "b70f1b11-d618-4b6d-aa77-d1e571ce4f39",
   "metadata": {},
   "source": [
    "Let's suppose that $\\mathbf{f} = \\begin{bmatrix} 0& 2& 0 &2& 0& 2& 0& 0& 0& 0& 0& 0 \\end{bmatrix}^T$. (We keep the numbering on the forces is the same as the numbering on the displacements. Thus, these forces\n",
    "are *downward* on all three masses in the bottom row.)"
   ]
  },
  {
   "cell_type": "code",
   "execution_count": 197,
   "id": "845e8ccc-0bbe-45e8-bb8c-fcd933393907",
   "metadata": {},
   "outputs": [
    {
     "data": {
      "text/plain": [
       "array([-2.45008020e-02,  1.48884085e+00, -9.03953583e-18,  1.74923139e+00,\n",
       "        2.45008020e-02,  1.48884085e+00,  3.63369530e-01,  1.23365368e+00,\n",
       "        2.77121850e-17,  1.65122818e+00, -3.63369530e-01,  1.23365368e+00])"
      ]
     },
     "execution_count": 197,
     "metadata": {},
     "output_type": "execute_result"
    }
   ],
   "source": [
    "ff = 10**6*np.array([0, 2, 0, 2, 0, 2, 0, 0, 0, 0, 0, 0])\n",
    "\n",
    "K2 = makeK([ 9.7* 10**6 if i in [1,2,3,4,6,9,12,14,15] else 6.8943 * 10**6 for i in range (1,16)])\n",
    "\n",
    "\n",
    "A2 = B_bridge.transpose() @ K2 @ B_bridge\n",
    "la.solve(A2,ff)"
   ]
  },
  {
   "cell_type": "markdown",
   "id": "389572c9-8f11-4542-8555-eef41d8f0648",
   "metadata": {},
   "source": [
    "## inverse problem\n",
    "\n",
    "The above shows that, given knowledge of the \"spring constants\" $k_i$, and the applied forces $f_i$, we can estimate the displacements $x_i$. This is the \"*forward problem*\".\n",
    "\n",
    "The inverse problem is this: given measurements of the displacements $x_i$, find the spring constants $k_i$.\n",
    "\n",
    "There are many applications of such *inverse problems*.\n",
    "\n",
    "For our bridge problem, note that consider the system\n",
    "\n",
    "$$B^T K B \\mathbf{x} = \\mathbf{f}$$\n",
    "\n",
    "We consider a general case where there are $m$ springs and $n/2$ masses, so that there are $n$ \"displacement components\" (in 2 dimensions).\n",
    "\n",
    "Notice that\n",
    "\n",
    "\\begin{align*}\n",
    "K B \\mathbf{x} =& \\begin{bmatrix} k_1 & 0 & \\cdots & 0 \\\\ \n",
    "0 & k_2 & \\cdots & 0 \\\\\n",
    "\\vdots & \\vdots & \\ddots & \\vdots \\\\\n",
    "0 & 0 & \\cdots & k_m \\end{bmatrix} \\begin{bmatrix} b_{11} & b_{12} & \\cdots & b_{1n} \\\\\n",
    "b_{21} & b_{22} & \\cdots & b_{2n} \\\\\n",
    "\\vdots & \\vdots & \\ddots & \\vdots \\\\\n",
    "b_{m1} & b_{m2} & \\cdots & b_{mn} \\end{bmatrix} \\begin{bmatrix} x_1 \\\\ x_2 \\\\ \\vdots \\\\ x_n \\end{bmatrix} \\\\\n",
    "=& \\operatorname{diag}(B \\mathbf{x}) \\begin{bmatrix} k_1 \\\\ k_2 \\\\ \\vdots \\\\ k_m \\end{bmatrix}\n",
    "\\end{align*}\n",
    "\n",
    "where for a vector $\\mathbf{w} \\in \\mathbb{R}^m$, we obtain an $m\\times m$ matrix\n",
    "$$\\operatorname{diag}(\\mathbf{w}) = \\begin{bmatrix} w_1 & 0 & \\cdots & 0 \\\\\n",
    "0 & w_2 & \\cdots & 0 \\\\\n",
    "\\vdots & \\vdots& \\ddots & \\vdots \\\\\n",
    "0 & 0 & \\cdots & w_m \\end{bmatrix}$$\n",
    "\n",
    "Thus we have\n",
    "$$B^T K B \\mathbf{x} = B^T \\operatorname{diag}(B \\mathbf{x}) \\mathbf{k} = \\mathbf{f}$$\n",
    "which gives some hope for finding the vector $\\mathbf{k}$ given knowledge of $\\mathbf{x}$ and $\\mathbf{f}$."
   ]
  },
  {
   "cell_type": "markdown",
   "id": "fdf243ae-2876-496c-81c1-7351855a7b7f",
   "metadata": {},
   "source": [
    "## the difficulty\n",
    "\n",
    "Note that in the case of our bridge example, the number of \"displacement components\" we are tracking is $n = 12$,\n",
    "while the number of springs is $m = 15$.\n",
    "\n",
    "Note that $B^T$ is an $n \\times m$ matrix, that $B \\mathbf{x}$ is in $\\mathbb{R}^m$, so that\n",
    "$B^T \\operatorname{diag}(B\\mathbf{x})$ is an $n \\times m$ matrix.\n",
    "\n",
    "In our example, the linear equation $B^T \\operatorname{diag}(B\\mathbf{x}) \\mathbf{k} = \\mathbf{f}$ amounts to a system of\n",
    "$12$ linear equations in $15$ unknowns.\n",
    "\n",
    "In general, if $n < m$, the system is *underdetermined*. As a consequence, the linear equation does not uniquely determine\n",
    "the spring constants $k_i$ -- i.e. the entries in the vector $\\mathbf{k}$.\n",
    "\n",
    "One way to fix this:\n",
    "\n",
    "take measurements $\\mathbf{x}$ for *various different force loads* $\\mathbf{f}$.\n",
    "\n",
    "More precisely, consider different force loads $\\mathbf{f}_1,\\cdots,\\mathbf{f}_p$.\n",
    "For each of these force loads, determine the displacement vectors $\\mathbf{x}_1,\\cdots,\\mathbf{x}_p$.\n",
    "\n",
    "We now obtain a $pn \\times m$ matrix system\n",
    "$$\\begin{bmatrix}\n",
    "B^T \\operatorname{diag}(B \\mathbf{x}_1) \\\\\n",
    "B^T \\operatorname{diag}(B \\mathbf{x}_2) \\\\\n",
    "\\vdots \\\\\n",
    "B^T \\operatorname{diag}(B \\mathbf{x}_p) \\\\\n",
    "\\end{bmatrix} \\begin{bmatrix} k_1 \\\\ k_2 \\\\ \\vdots \\\\ k_m \\end{bmatrix} = \n",
    "\\begin{bmatrix} \\mathbf{f}_1 \\\\ \\mathbf{f}_2 \\\\ \\vdots \\\\ \\mathbf{f}_p \\end{bmatrix}.$$\n",
    "\n",
    "If we choose $p$ sufficiently large and if we make sure that the $np \\times m$ coefficient\n",
    "matrix has rank at least $m$, we expect to find a solution."
   ]
  },
  {
   "cell_type": "code",
   "execution_count": 142,
   "id": "fccebee4-621c-4cbb-b0e4-b44a94fa5f69",
   "metadata": {},
   "outputs": [
    {
     "data": {
      "text/plain": [
       "array([[1, 0, 0, 0],\n",
       "       [0, 2, 0, 0],\n",
       "       [0, 0, 3, 0],\n",
       "       [0, 0, 0, 4]])"
      ]
     },
     "execution_count": 142,
     "metadata": {},
     "output_type": "execute_result"
    }
   ],
   "source": [
    "def diag(w):\n",
    "    n = len(w)\n",
    "    return np.array([ w[i]*sbv(i,n) for i in range(n) ])\n",
    "\n",
    "diag([1,2,3,4])"
   ]
  },
  {
   "cell_type": "markdown",
   "id": "6cf74e82-9686-40e2-94e5-3efcf8de9262",
   "metadata": {},
   "source": [
    "Let's consider some data. We have collected displacement measurements for three different force loads.\n",
    "The displacement measurements are outside of engineering tolerances!\n",
    "\n",
    "We want to know which spring (=bridge component) is defective."
   ]
  },
  {
   "cell_type": "code",
   "execution_count": 206,
   "id": "0dffaedc-ab15-40ff-a67d-13a8d7a2e515",
   "metadata": {},
   "outputs": [],
   "source": [
    "# measurements\n",
    "\n",
    "# for these forces\n",
    "f1 = 10**6*np.array([0, 2, 0, 0, 0, 0, 0, 0, 0, 0, 0, 0])\n",
    "f2 = 10**6*np.array([0, 0, 0, 2, 0, 0, 0, 0, 0, 0, 0, 0])\n",
    "f3 = 10**6*np.array([0, 0, 0, 0, 0, 2, 0, 0, 0, 0, 0, 0])\n",
    "\n",
    "# measured the following displacements\n",
    "x1 = np.array([ 0.04465819,  0.69735727,  0.08117014,  0.49972439,  0.0584346 ,\n",
    "        0.29520329,  0.09315958,  0.52830165, -0.04706315,  0.50115528,\n",
    "       -0.11445688,  0.25950424])\n",
    "\n",
    "x2 =np.array([-0.03453953,  0.49972439,  0.01867222,  0.76169019,  0.03453953,\n",
    "        0.49283618,  0.16411865,  0.45421336,  0.0034441 ,  0.66577233,\n",
    "       -0.15233463,  0.44242935])\n",
    "\n",
    "x3 = np.array([-0.04465819,  0.29520329, -0.08117014,  0.49283618, -0.0584346 ,\n",
    "        0.69735727,  0.11302599,  0.25807335,  0.04706315,  0.49140529,\n",
    "       -0.09172868,  0.52687076])"
   ]
  },
  {
   "cell_type": "code",
   "execution_count": 208,
   "id": "022c3093-de16-48c8-b9ec-4689b4ce0620",
   "metadata": {},
   "outputs": [
    {
     "data": {
      "text/plain": [
       "['k1 = 9699998.607722549',\n",
       " 'k2 = 2000000.4090927793',\n",
       " 'k3 = 9700000.122052612',\n",
       " 'k4 = 9699998.86756195',\n",
       " 'k5 = 6894300.281687661',\n",
       " 'k6 = 9700000.126240244',\n",
       " 'k7 = 6894300.249842933',\n",
       " 'k8 = 6894299.831309714',\n",
       " 'k9 = 9699998.96686751',\n",
       " 'k10 = 6894300.258596171',\n",
       " 'k11 = 6894299.903274672',\n",
       " 'k12 = 9700000.298712648',\n",
       " 'k13 = 6894300.008658496',\n",
       " 'k14 = 9700000.174220743',\n",
       " 'k15 = 9700000.624519458']"
      ]
     },
     "execution_count": 208,
     "metadata": {},
     "output_type": "execute_result"
    }
   ],
   "source": [
    "coeffMatrix = np.concatenate([ B_bridge.transpose() @ diag( B_bridge @ x ) for x in [x1,x2,x3] ] )\n",
    "\n",
    "kvalues,_,_,_ = la.lstsq(coeffMatrix , np.concatenate([f1,f2,f3]),rcond=None)\n",
    "\n",
    "\n",
    "[ f\"k{i+1} = {kvalues[i]}\" for i in range(len(kvalues))]"
   ]
  },
  {
   "cell_type": "markdown",
   "id": "cdc25484-e8ea-4992-abdd-369d400c673f",
   "metadata": {},
   "source": [
    "We see that `k2` is different than expected and needs to be replaced!"
   ]
  },
  {
   "cell_type": "code",
   "execution_count": null,
   "id": "bfe93644-cbb1-4af0-b47f-8a05cd0ad9ee",
   "metadata": {},
   "outputs": [],
   "source": []
  }
 ],
 "metadata": {
  "kernelspec": {
   "display_name": "Python 3 (ipykernel)",
   "language": "python",
   "name": "python3"
  },
  "language_info": {
   "codemirror_mode": {
    "name": "ipython",
    "version": 3
   },
   "file_extension": ".py",
   "mimetype": "text/x-python",
   "name": "python",
   "nbconvert_exporter": "python",
   "pygments_lexer": "ipython3",
   "version": "3.11.6"
  }
 },
 "nbformat": 4,
 "nbformat_minor": 5
}
