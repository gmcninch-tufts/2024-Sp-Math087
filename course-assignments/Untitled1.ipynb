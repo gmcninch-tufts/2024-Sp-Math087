{
 "cells": [
  {
   "cell_type": "code",
   "execution_count": 10,
   "id": "61b3c6f0-011d-49e5-b397-72b64a487ac6",
   "metadata": {},
   "outputs": [
    {
     "data": {
      "text/plain": [
       "{('rainy', 'sunny'): 1,\n",
       " ('sunny', 'rainy'): 1,\n",
       " ('foggy', 'rainy'): 0.5,\n",
       " ('foggy', 'snowy'): 0.5,\n",
       " ('snowy', 'sunny'): 0.3333333333333333,\n",
       " ('snowy', 'rainy'): 0.3333333333333333,\n",
       " ('snowy', 'foggy'): 0.3333333333333333}"
      ]
     },
     "execution_count": 10,
     "metadata": {},
     "output_type": "execute_result"
    }
   ],
   "source": [
    "\n",
    "weather = [ 'sunny', 'rainy', 'foggy', 'snowy' ]\n",
    "\n",
    "transitions = {\n",
    "    ('rainy', 'sunny'): 1,\n",
    "    ('sunny', 'rainy'): 1,\n",
    "    **{ ('foggy',w): 1/2 for w in weather if w != 'sunny' and w != 'foggy' },\n",
    "    **{ ('snowy',w): 1/3 for w in weather if w != 'snowy' }\n",
    "}\n",
    "\n",
    "transitions"
   ]
  },
  {
   "cell_type": "code",
   "execution_count": 20,
   "id": "7829543a-658c-4acf-a075-33c3f5411299",
   "metadata": {},
   "outputs": [
    {
     "data": {
      "text/plain": [
       "'weather.png'"
      ]
     },
     "execution_count": 20,
     "metadata": {},
     "output_type": "execute_result"
    }
   ],
   "source": [
    "from graphviz import Digraph\n",
    "\n",
    "dot = Digraph(format='png')\n",
    "dot.attr(rankdir='LR')\n",
    "\n",
    "with dot.subgraph() as c:\n",
    "    c.attr(rank='same')\n",
    "    c.node('rainy')\n",
    "    c.node('sunny')\n",
    "with dot.subgraph() as c:\n",
    "    c.attr(rank='same')\n",
    "    c.node('foggy')\n",
    "    c.node('snowy')\n",
    " \n",
    "from itertools import product\n",
    "\n",
    "for (v1,v2) in product(weather,weather):\n",
    "    if (v1,v2) in transitions.keys():\n",
    "        dot.edge(v1,v2,f\"{transitions[(v1,v2)]:.02f}\")\n",
    "dot.render('weather')"
   ]
  },
  {
   "cell_type": "code",
   "execution_count": 49,
   "id": "cfaaea2f-a80c-44fa-b3e4-fb7f5d385164",
   "metadata": {},
   "outputs": [
    {
     "data": {
      "text/plain": [
       "array([[0.        , 1.        , 0.        , 0.33333333],\n",
       "       [1.        , 0.        , 0.5       , 0.33333333],\n",
       "       [0.        , 0.        , 0.        , 0.33333333],\n",
       "       [0.        , 0.        , 0.5       , 0.        ]])"
      ]
     },
     "execution_count": 49,
     "metadata": {},
     "output_type": "execute_result"
    }
   ],
   "source": [
    "import numpy as np\n",
    "import numpy.linalg as npl\n",
    "\n",
    "def transition_prob(v,w,dict):\n",
    "    # get the probability for the transition v->w\n",
    "    if (v,w) in dict.keys():\n",
    "        return dict[(v,w)]\n",
    "    else:\n",
    "        return 0\n",
    "\n",
    "p = np.array([[ transition_prob(v,w,transitions) for v in weather] for w in weather ])\n",
    "\n",
    "p"
   ]
  },
  {
   "cell_type": "code",
   "execution_count": 33,
   "id": "bdb5472d-36c9-477b-a117-fd12328bda16",
   "metadata": {},
   "outputs": [
    {
     "data": {
      "text/plain": [
       "array([ 1.        ,  0.40824829, -1.        , -0.40824829])"
      ]
     },
     "execution_count": 33,
     "metadata": {},
     "output_type": "execute_result"
    }
   ],
   "source": [
    "vals,vecs = npl.eig(p)\n",
    "vals"
   ]
  },
  {
   "cell_type": "code",
   "execution_count": 36,
   "id": "fccf694e-2e0f-4b49-ac6a-e9b94ef926b3",
   "metadata": {},
   "outputs": [
    {
     "data": {
      "text/plain": [
       "array([[1.00000000e+00, 0.00000000e+00, 0.00000000e+00, 0.00000000e+00],\n",
       "       [0.00000000e+00, 1.00000000e+00, 0.00000000e+00, 0.00000000e+00],\n",
       "       [8.00000000e-01, 2.00000000e-01, 1.23719308e-39, 0.00000000e+00],\n",
       "       [4.00000000e-01, 6.00000000e-01, 0.00000000e+00, 1.23719308e-39]])"
      ]
     },
     "execution_count": 36,
     "metadata": {},
     "output_type": "execute_result"
    }
   ],
   "source": [
    "npl.matrix_power(p,100)"
   ]
  },
  {
   "cell_type": "code",
   "execution_count": 64,
   "id": "047a5670-f20f-49d9-bdf7-a017a027c45a",
   "metadata": {},
   "outputs": [],
   "source": [
    "new_transitions = {\n",
    "    ('rainy', 'sunny'): 1,\n",
    "    ('sunny', 'rainy'): 1/2,\n",
    "    ('sunny', 'snowy'): 1/2,\n",
    "    **{ ('foggy',w): 1/2 for w in weather if w != 'sunny' and w != 'foggy' },\n",
    "    **{ ('snowy',w): 1/3 for w in weather if w != 'snowy' }\n",
    "}"
   ]
  },
  {
   "cell_type": "code",
   "execution_count": 40,
   "id": "2ec9b54a-aec9-4f46-8b19-4466f0af3d86",
   "metadata": {},
   "outputs": [
    {
     "data": {
      "text/plain": [
       "'new_weather.png'"
      ]
     },
     "execution_count": 40,
     "metadata": {},
     "output_type": "execute_result"
    }
   ],
   "source": [
    "\n",
    "new_dot = Digraph(format='png')\n",
    "new_dot.attr(rankdir='LR')\n",
    "\n",
    "with new_dot.subgraph() as c:\n",
    "    c.attr(rank='same')\n",
    "    c.node('rainy')\n",
    "    c.node('sunny')\n",
    "with new_dot.subgraph() as c:\n",
    "    c.attr(rank='same')\n",
    "    c.node('foggy')\n",
    "    c.node('snowy')\n",
    " \n",
    "for (v1,v2) in product(weather,weather):\n",
    "    if (v1,v2) in new_transitions.keys():\n",
    "        new_dot.edge(v1,v2,f\"{new_transitions[(v1,v2)]:.02f}\")\n",
    "new_dot.render('new_weather')"
   ]
  },
  {
   "cell_type": "code",
   "execution_count": 65,
   "id": "5ef4c5d7-6a50-4e93-8f1c-22aaf3a2cf1b",
   "metadata": {},
   "outputs": [
    {
     "data": {
      "text/plain": [
       "array([[0.        , 1.        , 0.        , 0.33333333],\n",
       "       [0.5       , 0.        , 0.5       , 0.33333333],\n",
       "       [0.        , 0.        , 0.        , 0.33333333],\n",
       "       [0.5       , 0.        , 0.5       , 0.        ]])"
      ]
     },
     "execution_count": 65,
     "metadata": {},
     "output_type": "execute_result"
    }
   ],
   "source": [
    "\n",
    "q = np.array([[ transition_prob(v,w,new_transitions) for v in weather] for w in weather ])\n",
    "\n",
    "q"
   ]
  },
  {
   "cell_type": "code",
   "execution_count": 72,
   "id": "ac120637-c060-4642-96af-1330d9ee2b2b",
   "metadata": {},
   "outputs": [
    {
     "data": {
      "text/plain": [
       "array([[0.38461538, 0.38461538, 0.38461538, 0.38461538],\n",
       "       [0.30769231, 0.30769231, 0.30769231, 0.30769231],\n",
       "       [0.07692308, 0.07692308, 0.07692308, 0.07692308],\n",
       "       [0.23076923, 0.23076923, 0.23076923, 0.23076923]])"
      ]
     },
     "execution_count": 72,
     "metadata": {},
     "output_type": "execute_result"
    }
   ],
   "source": [
    "npl.matrix_power(q,100)"
   ]
  },
  {
   "cell_type": "code",
   "execution_count": 67,
   "id": "b46bdbc4-2d7c-4787-9da9-7938a37d3ee9",
   "metadata": {},
   "outputs": [
    {
     "data": {
      "text/plain": [
       "array([ 1.        , -0.78867513, -0.21132487,  0.        ])"
      ]
     },
     "execution_count": 67,
     "metadata": {},
     "output_type": "execute_result"
    }
   ],
   "source": [
    "vals,vecs = npl.eig(q)\n",
    "vals"
   ]
  },
  {
   "cell_type": "code",
   "execution_count": 70,
   "id": "7f87a7f2-5d34-4b49-a523-92bf94531e8e",
   "metadata": {},
   "outputs": [
    {
     "data": {
      "text/plain": [
       "array([0.38461538, 0.30769231, 0.07692308, 0.23076923])"
      ]
     },
     "execution_count": 70,
     "metadata": {},
     "output_type": "execute_result"
    }
   ],
   "source": [
    "# get the eigenvector computed by numpy for eigenvalue 1\n",
    "ev = vecs[:,0]\n",
    "\n",
    "# normalize to make a probability vector\n",
    "c = np.array([1,1,1,1]) @ ev\n",
    "pev = (1/c)*ev\n",
    "\n",
    "pev"
   ]
  },
  {
   "cell_type": "code",
   "execution_count": null,
   "id": "ccb637d2-7fc6-4fb0-b073-56bbbf19e041",
   "metadata": {},
   "outputs": [],
   "source": []
  }
 ],
 "metadata": {
  "kernelspec": {
   "display_name": "Python 3 (ipykernel)",
   "language": "python",
   "name": "python3"
  },
  "language_info": {
   "codemirror_mode": {
    "name": "ipython",
    "version": 3
   },
   "file_extension": ".py",
   "mimetype": "text/x-python",
   "name": "python",
   "nbconvert_exporter": "python",
   "pygments_lexer": "ipython3",
   "version": "3.11.6"
  }
 },
 "nbformat": 4,
 "nbformat_minor": 5
}
