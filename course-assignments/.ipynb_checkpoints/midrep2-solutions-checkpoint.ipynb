{
 "cells": [
  {
   "cell_type": "code",
   "execution_count": 38,
   "id": "45ee1b10-a3c1-41b6-88f7-bc569c784d05",
   "metadata": {},
   "outputs": [
    {
     "data": {
      "text/plain": [
       "array([[1, 1, 0, 1],\n",
       "       [0, 1, 1, 0],\n",
       "       [1, 1, 1, 0],\n",
       "       [1, 0, 0, 1]])"
      ]
     },
     "execution_count": 38,
     "metadata": {},
     "output_type": "execute_result"
    }
   ],
   "source": [
    "import numpy as np\n"
   ]
  },
  {
   "cell_type": "code",
   "execution_count": 46,
   "id": "73ddd00f-bed8-4389-b200-b602045fac88",
   "metadata": {},
   "outputs": [
    {
     "data": {
      "text/plain": [
       "array([[1, 1, 0, 0],\n",
       "       [1, 1, 0, 0],\n",
       "       [1, 1, 1, 0],\n",
       "       [1, 0, 1, 0]])"
      ]
     },
     "execution_count": 46,
     "metadata": {},
     "output_type": "execute_result"
    }
   ],
   "source": [
    "B = np.array([[1,1,0,0],[1,1,0,0],[1,1,1,0],[1,0,1,0]])\n",
    "B"
   ]
  },
  {
   "cell_type": "code",
   "execution_count": 93,
   "id": "73b24bc1-807f-452d-bd50-22b441ac816f",
   "metadata": {},
   "outputs": [
    {
     "data": {
      "text/latex": [
       "$\\displaystyle 1.0$"
      ],
      "text/plain": [
       "1.00000000000000"
      ]
     },
     "execution_count": 93,
     "metadata": {},
     "output_type": "execute_result"
    }
   ],
   "source": [
    "import sympy as sp\n",
    "p = sp.symbols('p')"
   ]
  },
  {
   "cell_type": "code",
   "execution_count": 62,
   "id": "86f3bb02-488f-4f36-9bbf-3ab937916bfd",
   "metadata": {},
   "outputs": [
    {
     "data": {
      "text/plain": [
       "[4.0, 3.0, 2.0, 0.0]"
      ]
     },
     "execution_count": 62,
     "metadata": {},
     "output_type": "execute_result"
    }
   ],
   "source": [
    "[ np.ones(4) @ B[:,j] for j in range(4) ]"
   ]
  },
  {
   "cell_type": "code",
   "execution_count": 108,
   "id": "fa3f4103-e2c9-427c-9bc7-c0ad57a702ec",
   "metadata": {},
   "outputs": [],
   "source": [
    "def naive_transition(A,n,i,j):\n",
    "    s = np.ones(n) @ A[:,j]\n",
    "    if s == 0:\n",
    "        return 1/n       # node j is a sink\n",
    "    else:\n",
    "        return A[i,j]/s\n",
    "\n",
    "def make_transition(A,p):\n",
    "    (n,m) = A.shape\n",
    "    if n == m:\n",
    "        return np.array([[ p/n + (1-p)*naive_transition(A,n,i,j) \n",
    "                           for j in range(n)] \n",
    "                           for i in range(n)])"
   ]
  },
  {
   "cell_type": "code",
   "execution_count": 109,
   "id": "e3a55107-da49-45df-afa1-585e6f3d5159",
   "metadata": {},
   "outputs": [
    {
     "data": {
      "text/plain": [
       "array([[0.250000000000000, 0.333333333333333 - 0.0833333333333333*p, p/4,\n",
       "        0.250000000000000],\n",
       "       [0.250000000000000, 0.333333333333333 - 0.0833333333333333*p, p/4,\n",
       "        0.250000000000000],\n",
       "       [0.250000000000000, 0.333333333333333 - 0.0833333333333333*p,\n",
       "        0.5 - 0.25*p, 0.250000000000000],\n",
       "       [0.250000000000000, p/4, 0.5 - 0.25*p, 0.250000000000000]],\n",
       "      dtype=object)"
      ]
     },
     "execution_count": 109,
     "metadata": {},
     "output_type": "execute_result"
    }
   ],
   "source": [
    "C=make_transition(B,p)\n",
    "C"
   ]
  },
  {
   "cell_type": "code",
   "execution_count": 110,
   "id": "8b05a23d-b952-4de0-909e-56b55cf7ed08",
   "metadata": {},
   "outputs": [
    {
     "data": {
      "text/plain": [
       "array([1.00000000000000, 5.55111512312578e-17*p + 1.0, 1.00000000000000,\n",
       "       1.00000000000000], dtype=object)"
      ]
     },
     "execution_count": 110,
     "metadata": {},
     "output_type": "execute_result"
    }
   ],
   "source": [
    "np.ones(4) @ C\n"
   ]
  },
  {
   "cell_type": "code",
   "execution_count": 111,
   "id": "ddc901f2-fb7e-4b31-a99f-c7cb7cf5c08b",
   "metadata": {},
   "outputs": [],
   "source": [
    "A = np.array([[ 0, 0, 0, 0, 0 ],\n",
    "              [ 1, 0, 0, 0, 0 ],\n",
    "              [ 1, 1, 0, 0, 0 ],\n",
    "              [ 1, 0, 1, 0, 0 ],\n",
    "              [ 0, 1, 0, 1, 0 ]])"
   ]
  },
  {
   "cell_type": "code",
   "execution_count": 115,
   "id": "9ba60afb-1274-43a9-8c8f-abc1c542fd50",
   "metadata": {},
   "outputs": [
    {
     "data": {
      "text/plain": [
       "array([[0.16000, 0.16000, 0.16000, 0.16000, 0.20000],\n",
       "       [0.22667, 0.16000, 0.16000, 0.16000, 0.20000],\n",
       "       [0.22667, 0.26000, 0.16000, 0.16000, 0.20000],\n",
       "       [0.22667, 0.16000, 0.36000, 0.16000, 0.20000],\n",
       "       [0.16000, 0.26000, 0.16000, 0.36000, 0.20000]])"
      ]
     },
     "execution_count": 115,
     "metadata": {},
     "output_type": "execute_result"
    }
   ],
   "source": [
    "C=make_transition(A,p=0.8)\n",
    "C"
   ]
  },
  {
   "cell_type": "code",
   "execution_count": 114,
   "id": "d267a9d8-7a4a-4c97-80e9-ba9b2c718195",
   "metadata": {},
   "outputs": [
    {
     "data": {
      "text/plain": [
       "array([1.00000, 1.00000, 1.00000, 1.00000, 1.00000])"
      ]
     },
     "execution_count": 114,
     "metadata": {},
     "output_type": "execute_result"
    }
   ],
   "source": [
    "np.ones(5)@C"
   ]
  },
  {
   "cell_type": "code",
   "execution_count": 116,
   "id": "0c9f60eb-c7f5-45bb-bced-f73998967c7e",
   "metadata": {},
   "outputs": [],
   "source": [
    "A3 = np.array([[0, 0, 0, 0, 0 ],\n",
    "              [1, 0, 0, 0, 0 ],\n",
    "              [1, 1, 0, 0, 0 ],\n",
    "              [1, 0, 1, 0, 0 ],\n",
    "              [0, 1, 0, 1, 0 ]])"
   ]
  },
  {
   "cell_type": "code",
   "execution_count": 117,
   "id": "535dd202-a47d-448b-8c6f-bcfb26a6f81d",
   "metadata": {},
   "outputs": [],
   "source": [
    "C3=make_transition(A3,p=.8)\n",
    "D3=make_transition(A3,p=.4)"
   ]
  },
  {
   "cell_type": "code",
   "execution_count": 123,
   "id": "374431cb-a2bf-4917-a56c-11f5d95a6e88",
   "metadata": {},
   "outputs": [
    {
     "data": {
      "text/plain": [
       "array([ 1.       +0.j        , -0.0155051+0.10500275j,\n",
       "       -0.0155051-0.10500275j, -0.0644949+0.0239671j ,\n",
       "       -0.0644949-0.0239671j ])"
      ]
     },
     "execution_count": 123,
     "metadata": {},
     "output_type": "execute_result"
    }
   ],
   "source": [
    "valsC3,vecsC3 = np.linalg.eig(C3)\n",
    "valsC3"
   ]
  },
  {
   "cell_type": "code",
   "execution_count": 124,
   "id": "d41b152e-fd2b-423c-aa75-cd0a5fcb9106",
   "metadata": {},
   "outputs": [
    {
     "data": {
      "text/plain": [
       "array([ 1.        +0.j        , -0.04651531+0.31500826j,\n",
       "       -0.04651531-0.31500826j, -0.19348469+0.0719013j ,\n",
       "       -0.19348469-0.0719013j ])"
      ]
     },
     "execution_count": 124,
     "metadata": {},
     "output_type": "execute_result"
    }
   ],
   "source": [
    "valsD3,vecsD3 = np.linalg.eig(D3)\n",
    "valsD3"
   ]
  },
  {
   "cell_type": "code",
   "execution_count": 132,
   "id": "a4e15566-4212-4f05-a3e9-a2511c149ce6",
   "metadata": {},
   "outputs": [
    {
     "data": {
      "text/plain": [
       "array([-0.37592, -0.40098, -0.44108, -0.48919, -0.51385])"
      ]
     },
     "execution_count": 132,
     "metadata": {},
     "output_type": "execute_result"
    }
   ],
   "source": [
    "vecsC3[:,0]"
   ]
  },
  {
   "cell_type": "code",
   "execution_count": 147,
   "id": "ce8c597d-7cbd-41cc-a2ce-14dcda333251",
   "metadata": {},
   "outputs": [
    {
     "data": {
      "text/plain": [
       "array([0.24683, 0.29619, 0.38505, 0.52722, 0.65202])"
      ]
     },
     "execution_count": 147,
     "metadata": {},
     "output_type": "execute_result"
    }
   ],
   "source": [
    "np.real_if_close(vecsD3[:,0])\n"
   ]
  },
  {
   "cell_type": "code",
   "execution_count": 160,
   "id": "af288bc2-2f1f-4991-a800-05bf34c0ba8e",
   "metadata": {},
   "outputs": [],
   "source": [
    "def normalize(v):\n",
    "    n = v.shape\n",
    "    s = np.ones(n) @ v\n",
    "    return np.real_if_close((1/s)*v)"
   ]
  },
  {
   "cell_type": "code",
   "execution_count": 163,
   "id": "0b9c18af-c29a-499a-83cf-569d58a18910",
   "metadata": {},
   "outputs": [
    {
     "data": {
      "text/plain": [
       "array([0.16925, 0.18054, 0.19859, 0.22026, 0.23136])"
      ]
     },
     "execution_count": 163,
     "metadata": {},
     "output_type": "execute_result"
    }
   ],
   "source": [
    "normalize(vecsC3[:,0])"
   ]
  },
  {
   "cell_type": "code",
   "execution_count": 162,
   "id": "78f78ee5-4799-4a2d-8b09-90cb64e5a21e",
   "metadata": {},
   "outputs": [
    {
     "data": {
      "text/plain": [
       "array([0.11713, 0.14055, 0.18272, 0.25019, 0.30941])"
      ]
     },
     "execution_count": 162,
     "metadata": {},
     "output_type": "execute_result"
    }
   ],
   "source": [
    "normalize(vecsD3[:,0])"
   ]
  }
 ],
 "metadata": {
  "kernelspec": {
   "display_name": "Python 3 (ipykernel)",
   "language": "python",
   "name": "python3"
  },
  "language_info": {
   "codemirror_mode": {
    "name": "ipython",
    "version": 3
   },
   "file_extension": ".py",
   "mimetype": "text/x-python",
   "name": "python",
   "nbconvert_exporter": "python",
   "pygments_lexer": "ipython3",
   "version": "3.11.6"
  }
 },
 "nbformat": 4,
 "nbformat_minor": 5
}
