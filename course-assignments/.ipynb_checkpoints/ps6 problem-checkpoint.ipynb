{
 "cells": [
  {
   "cell_type": "code",
   "execution_count": 5,
   "id": "9e4f3a6d-1fc3-4fab-aa04-580ad19ffa6c",
   "metadata": {},
   "outputs": [
    {
     "name": "stdout",
     "output_type": "stream",
     "text": [
      "[(0, {0: 1}),\n",
      " (1, {0: 0.0, 1: 1.0}),\n",
      " (2, {0: 0.5, 1: 0.0, 2: 0.5}),\n",
      " (3, {0: 0.0, 1: 0.75, 2: 0.0, 3: 0.25}),\n",
      " (4, {0: 0.375, 1: 0.0, 2: 0.5, 3: 0.0, 4: 0.125})]\n",
      "[(0, 0), (1, 1.0), (2, 0.0), (3, 1.0), (4, 0.0)]\n"
     ]
    }
   ],
   "source": [
    "from pprint import pprint\n",
    "\n",
    "def prob(state,pos):\n",
    "    if pos in state.keys():\n",
    "        return state[pos]\n",
    "    else:\n",
    "        return 0\n",
    "\n",
    "def step(f,state):\n",
    "    results = len(state.keys())\n",
    "    return { r: f(r-1,r)*prob(state,r-1) + f(r,r)*prob(state,r) + f(r+1,r)*prob(state,r+1)\n",
    "        for r in range(results+1) }\n",
    "\n",
    "def iterate(num,f,state):\n",
    "    if num<=0:\n",
    "        return state\n",
    "    else:\n",
    "        return iterate(num-1,f,step(f,state))\n",
    "\n",
    "def check(state):\n",
    "    return sum([ state[r] for r in state.keys()]) == 1\n",
    "\n",
    "def prob_odd(state):\n",
    "    return sum([ state[r] for r in state.keys() if r % 2 == 1 ])\n",
    "\n",
    "##--------------------------------------------------------\n",
    "\n",
    "def one_coin(old_pos,new_pos):\n",
    "    # return the probability of \n",
    "    # transition from old_pos to new_pos\n",
    "    match (old_pos,new_pos):\n",
    "        case 0,1:  return 1\n",
    "        case 0,_:  return 0\n",
    "        case m,n: \n",
    "            if abs(m-n) == 1:\n",
    "                return .5\n",
    "            else: \n",
    "                return 0\n",
    "\n",
    "\n",
    "S = [ (m,iterate(m,one_coin,{0:1})) for m in [0,1,2,3,4] ]\n",
    "C = [ (m,check(state)) for (m,state) in S ]\n",
    "T = [ (m,prob_odd(state)) for (m,state) in S ]\n",
    "pprint(S)\n",
    "print(T)"
   ]
  },
  {
   "cell_type": "code",
   "execution_count": 6,
   "id": "c18e203a-a265-4262-8cda-2fc608d660cf",
   "metadata": {},
   "outputs": [
    {
     "name": "stdout",
     "output_type": "stream",
     "text": [
      "[(0, {0: 1}),\n",
      " (1, {0: 0.5, 1: 0.5}),\n",
      " (2, {0: 0.375, 1: 0.5, 2: 0.125}),\n",
      " (3, {0: 0.3125, 1: 0.46875, 2: 0.1875, 3: 0.03125}),\n",
      " (4, {0: 0.2734375, 1: 0.4375, 2: 0.21875, 3: 0.0625, 4: 0.0078125})]\n",
      "[(0, 0), (1, 0.5), (2, 0.5), (3, 0.5), (4, 0.5)]\n"
     ]
    }
   ],
   "source": [
    "def two_coin(old_pos,new_pos):\n",
    "    match (old_pos,new_pos):\n",
    "        case 0,1: return .5\n",
    "        case 0,0: return .5\n",
    "        case m,n:\n",
    "            if m==n:\n",
    "                return .5\n",
    "            if abs(m-n) == 1:\n",
    "                return .25\n",
    "            else:\n",
    "                return 0\n",
    "\n",
    "S = [ (m,iterate(m,two_coin,{0:1})) for m in [0,1,2,3,4] ]\n",
    "C = [ (m,check(state)) for (m,state) in S ]\n",
    "T = [ (m,prob_odd(state)) for (m,state) in S ]\n",
    "pprint(S)\n",
    "print(T)"
   ]
  },
  {
   "cell_type": "code",
   "execution_count": null,
   "id": "0ab0c9cc-f080-4f5b-8642-b436f0beb131",
   "metadata": {},
   "outputs": [],
   "source": []
  }
 ],
 "metadata": {
  "kernelspec": {
   "display_name": "Python 3 (ipykernel)",
   "language": "python",
   "name": "python3"
  },
  "language_info": {
   "codemirror_mode": {
    "name": "ipython",
    "version": 3
   },
   "file_extension": ".py",
   "mimetype": "text/x-python",
   "name": "python",
   "nbconvert_exporter": "python",
   "pygments_lexer": "ipython3",
   "version": "3.11.6"
  }
 },
 "nbformat": 4,
 "nbformat_minor": 5
}
