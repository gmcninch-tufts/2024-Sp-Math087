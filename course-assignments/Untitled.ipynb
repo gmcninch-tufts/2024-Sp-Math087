{
 "cells": [
  {
   "cell_type": "code",
   "execution_count": 9,
   "id": "c63b003d-094a-4e40-af89-095658325e7d",
   "metadata": {},
   "outputs": [
    {
     "data": {
      "text/plain": [
       "array([0.57729601, 0.2809288 , 0.05140198, 0.40681106, 0.46758215,\n",
       "       0.26337749, 0.5023616 , 0.40064446, 0.47431738, 0.05807318,\n",
       "       0.70005671, 0.42273064, 0.91727302, 0.77745334, 0.9496391 ,\n",
       "       0.82344881, 0.45056234, 0.66957984, 0.91398948, 0.53240024])"
      ]
     },
     "execution_count": 9,
     "metadata": {},
     "output_type": "execute_result"
    }
   ],
   "source": [
    "import numpy as np\n",
    "\n",
    "L = np.random.rand(20)\n",
    "L"
   ]
  },
  {
   "cell_type": "code",
   "execution_count": 15,
   "id": "ee7fd744-e82d-4c72-bfcb-80ab5a9df68f",
   "metadata": {},
   "outputs": [
    {
     "data": {
      "text/plain": [
       "array([0.05140198, 0.05807318, 0.26337749, 0.2809288 , 0.40064446,\n",
       "       0.40681106, 0.42273064, 0.45056234, 0.46758215, 0.47431738,\n",
       "       0.5023616 , 0.53240024, 0.57729601, 0.66957984, 0.70005671,\n",
       "       0.77745334, 0.82344881, 0.91398948, 0.91727302, 0.9496391 ])"
      ]
     },
     "execution_count": 15,
     "metadata": {},
     "output_type": "execute_result"
    }
   ],
   "source": [
    "L.sort()\n",
    "L"
   ]
  },
  {
   "cell_type": "code",
   "execution_count": 19,
   "id": "c61df519-15f5-494d-bf73-4fee26469af9",
   "metadata": {},
   "outputs": [
    {
     "data": {
      "text/plain": [
       "array([0.9496391 , 0.91727302, 0.91398948, 0.82344881, 0.77745334,\n",
       "       0.70005671, 0.66957984, 0.57729601, 0.53240024, 0.5023616 ,\n",
       "       0.47431738, 0.46758215, 0.45056234, 0.42273064, 0.40681106,\n",
       "       0.40064446, 0.2809288 , 0.26337749, 0.05807318, 0.05140198])"
      ]
     },
     "execution_count": 19,
     "metadata": {},
     "output_type": "execute_result"
    }
   ],
   "source": [
    "np.flip(L)"
   ]
  },
  {
   "cell_type": "code",
   "execution_count": 10,
   "id": "192edf9d-92ba-44e4-9c46-878f90ff644b",
   "metadata": {},
   "outputs": [
    {
     "data": {
      "text/plain": [
       "[(0, 0.5772960118032873),\n",
       " (1, 0.2809287985164173),\n",
       " (2, 0.05140197511622868),\n",
       " (3, 0.40681106081873575),\n",
       " (4, 0.4675821533006881),\n",
       " (5, 0.26337748994553745),\n",
       " (6, 0.5023616042856488),\n",
       " (7, 0.4006444620443086),\n",
       " (8, 0.4743173839140704),\n",
       " (9, 0.05807317637157772),\n",
       " (10, 0.7000567102708702),\n",
       " (11, 0.42273064070685074),\n",
       " (12, 0.9172730241594714),\n",
       " (13, 0.7774533409396358),\n",
       " (14, 0.9496391020216651),\n",
       " (15, 0.8234488098653842),\n",
       " (16, 0.45056233585933736),\n",
       " (17, 0.6695798369362923),\n",
       " (18, 0.9139894773052747),\n",
       " (19, 0.5324002442977712)]"
      ]
     },
     "execution_count": 10,
     "metadata": {},
     "output_type": "execute_result"
    }
   ],
   "source": [
    "LL = [ (i,L[i]) for i in range(len(L))]\n",
    "LL"
   ]
  },
  {
   "cell_type": "code",
   "execution_count": 13,
   "id": "567fc433-7d6c-4325-af85-19053fcd3a36",
   "metadata": {},
   "outputs": [],
   "source": [
    "LL.sort(key=lambda x: x[1])"
   ]
  },
  {
   "cell_type": "code",
   "execution_count": 21,
   "id": "bd843341-3cdc-4a36-9fed-506692f1af26",
   "metadata": {},
   "outputs": [
    {
     "data": {
      "text/plain": [
       "array([0.9496391 , 0.91727302, 0.91398948, 0.82344881, 0.77745334])"
      ]
     },
     "execution_count": 21,
     "metadata": {},
     "output_type": "execute_result"
    }
   ],
   "source": [
    "np.flip(L)[0:5]"
   ]
  },
  {
   "cell_type": "code",
   "execution_count": 22,
   "id": "f08a5e9b-a1af-4ff9-9d47-741d4734c0f2",
   "metadata": {},
   "outputs": [
    {
     "data": {
      "text/plain": [
       "array([0.05140198, 0.05807318, 0.26337749, 0.2809288 , 0.40064446,\n",
       "       0.40681106, 0.42273064, 0.45056234, 0.46758215, 0.47431738,\n",
       "       0.5023616 , 0.53240024, 0.57729601, 0.66957984, 0.70005671,\n",
       "       0.77745334, 0.82344881, 0.91398948, 0.91727302, 0.9496391 ])"
      ]
     },
     "execution_count": 22,
     "metadata": {},
     "output_type": "execute_result"
    }
   ],
   "source": [
    "L"
   ]
  },
  {
   "cell_type": "code",
   "execution_count": 33,
   "id": "bda81b31-1a31-408e-b541-efefbafe8831",
   "metadata": {},
   "outputs": [
    {
     "data": {
      "text/plain": [
       "array([0.54271742, 0.08356579, 0.84459914, 0.31623228, 0.83783749,\n",
       "       0.08603638, 0.58023307, 0.73584079, 0.48756939, 0.15952226,\n",
       "       0.49337045, 0.50012207, 0.83147688, 0.19603904, 0.56062997,\n",
       "       0.2623    , 0.12932203, 0.53814636, 0.26040894, 0.51886249])"
      ]
     },
     "execution_count": 33,
     "metadata": {},
     "output_type": "execute_result"
    }
   ],
   "source": [
    "colors = [ \"Gainsboro\",\n",
    "           \"Gamboge\",\n",
    "           \"Glossy grape\",\n",
    "           \"Gold (metallic)\",\n",
    "           \"Gold (Crayola)\",\n",
    "           \"Golden poppy\",\n",
    "           \"Golden yellow\",\n",
    "           \"Goldenrod\",\n",
    "           \"Gotham green\",\n",
    "           \"Granite gray\",\n",
    "           \"Granny Smith apple\",\n",
    "           \"Gray (web)\",\n",
    "           \"Gray (X11 gray)\",\n",
    "           \"Green\",\n",
    "           \"Green (Crayola)\",\n",
    "           \"Green (web)\",\n",
    "           \"Green (Munsell)\",\n",
    "           \"Green (pigment)\",\n",
    "           \"Green-blue\",\n",
    "           \"Green Lizard\"\n",
    "           ]\n",
    "\n",
    "M = np.random.rand(20)\n",
    "M\n"
   ]
  },
  {
   "cell_type": "code",
   "execution_count": 34,
   "id": "4894c426-2385-4271-a9c2-16c3c675452d",
   "metadata": {},
   "outputs": [
    {
     "data": {
      "text/plain": [
       "[(0, 0.5427174230907871),\n",
       " (1, 0.08356578675164472),\n",
       " (2, 0.8445991409147532),\n",
       " (3, 0.3162322837557817),\n",
       " (4, 0.8378374910762032),\n",
       " (5, 0.08603638182768714),\n",
       " (6, 0.5802330689338201),\n",
       " (7, 0.7358407928154617),\n",
       " (8, 0.48756938882888645),\n",
       " (9, 0.1595222604249248),\n",
       " (10, 0.4933704534494878),\n",
       " (11, 0.5001220683132755),\n",
       " (12, 0.8314768835810168),\n",
       " (13, 0.19603903842858328),\n",
       " (14, 0.5606299700383907),\n",
       " (15, 0.2623000018631262),\n",
       " (16, 0.12932203084493898),\n",
       " (17, 0.5381463621629631),\n",
       " (18, 0.2604089399287458),\n",
       " (19, 0.5188624872343434)]"
      ]
     },
     "execution_count": 34,
     "metadata": {},
     "output_type": "execute_result"
    }
   ],
   "source": [
    "MM = [ (i,M[i]) for i in range(len(M)) ]\n",
    "MM"
   ]
  },
  {
   "cell_type": "code",
   "execution_count": 37,
   "id": "4e5a4a43-e1ab-4ae6-acd5-2a1c5fee3419",
   "metadata": {},
   "outputs": [
    {
     "data": {
      "text/plain": [
       "[(2, 0.8445991409147532),\n",
       " (4, 0.8378374910762032),\n",
       " (12, 0.8314768835810168),\n",
       " (7, 0.7358407928154617),\n",
       " (6, 0.5802330689338201)]"
      ]
     },
     "execution_count": 37,
     "metadata": {},
     "output_type": "execute_result"
    }
   ],
   "source": [
    " MM.sort( key = lambda x: -x[1] )\n",
    " MM[0:5]"
   ]
  },
  {
   "cell_type": "code",
   "execution_count": 38,
   "id": "16b212ba-bb0a-4326-ba22-aa0538f63668",
   "metadata": {},
   "outputs": [
    {
     "data": {
      "text/plain": [
       "[('Glossy grape', 0.8445991409147532),\n",
       " ('Gold (Crayola)', 0.8378374910762032),\n",
       " ('Gray (X11 gray)', 0.8314768835810168),\n",
       " ('Goldenrod', 0.7358407928154617),\n",
       " ('Golden yellow', 0.5802330689338201)]"
      ]
     },
     "execution_count": 38,
     "metadata": {},
     "output_type": "execute_result"
    }
   ],
   "source": [
    "[ (colors[i],m) for (i,m) in MM[0:5] ]"
   ]
  },
  {
   "cell_type": "code",
   "execution_count": 41,
   "id": "9957e716-d667-47b3-a422-19d9c306ad22",
   "metadata": {},
   "outputs": [
    {
     "data": {
      "text/plain": [
       "[('Gainsboro', 0.54271742),\n",
       " ('Gamboge', 0.08356579),\n",
       " ('Glossy grape', 0.84459914),\n",
       " ('Gold (metallic)', 0.31623228),\n",
       " ('Gold (Crayola)', 0.83783749),\n",
       " ('Golden poppy', 0.08603638),\n",
       " ('Golden yellow', 0.58023307),\n",
       " ('Goldenrod', 0.73584079),\n",
       " ('Gotham green', 0.48756939),\n",
       " ('Granite gray', 0.15952226),\n",
       " ('Granny Smith apple', 0.49337045),\n",
       " ('Gray (web)', 0.50012207),\n",
       " ('Gray (X11 gray)', 0.83147688),\n",
       " ('Green', 0.19603904),\n",
       " ('Green (Crayola)', 0.56062997),\n",
       " ('Green (web)', 0.2623),\n",
       " ('Green (Munsell)', 0.12932203),\n",
       " ('Green (pigment)', 0.53814636),\n",
       " ('Green-blue', 0.26040894),\n",
       " ('Green Lizard', 0.51886249)]"
      ]
     },
     "execution_count": 41,
     "metadata": {},
     "output_type": "execute_result"
    }
   ],
   "source": [
    "\n",
    "M = np.array([0.54271742, 0.08356579, 0.84459914, 0.31623228, 0.83783749,\n",
    "       0.08603638, 0.58023307, 0.73584079, 0.48756939, 0.15952226,\n",
    "       0.49337045, 0.50012207, 0.83147688, 0.19603904, 0.56062997,\n",
    "       0.2623    , 0.12932203, 0.53814636, 0.26040894, 0.51886249])\n",
    "\n",
    "MMM = list(zip(colors,M))\n",
    "MMM"
   ]
  },
  {
   "cell_type": "code",
   "execution_count": 43,
   "id": "ad4eb061-c9c3-4183-9a4b-698aaee98adc",
   "metadata": {},
   "outputs": [
    {
     "data": {
      "text/plain": [
       "[('Glossy grape', 0.84459914),\n",
       " ('Gold (Crayola)', 0.83783749),\n",
       " ('Gray (X11 gray)', 0.83147688),\n",
       " ('Goldenrod', 0.73584079),\n",
       " ('Golden yellow', 0.58023307)]"
      ]
     },
     "execution_count": 43,
     "metadata": {},
     "output_type": "execute_result"
    }
   ],
   "source": [
    "MMM.sort(key=lambda x: -x[1])\n",
    "MMM[0:5]"
   ]
  },
  {
   "cell_type": "code",
   "execution_count": null,
   "id": "c6253929-2a6e-4f49-b661-2c588780acad",
   "metadata": {},
   "outputs": [],
   "source": []
  }
 ],
 "metadata": {
  "kernelspec": {
   "display_name": "Python 3 (ipykernel)",
   "language": "python",
   "name": "python3"
  },
  "language_info": {
   "codemirror_mode": {
    "name": "ipython",
    "version": 3
   },
   "file_extension": ".py",
   "mimetype": "text/x-python",
   "name": "python",
   "nbconvert_exporter": "python",
   "pygments_lexer": "ipython3",
   "version": "3.11.6"
  }
 },
 "nbformat": 4,
 "nbformat_minor": 5
}
